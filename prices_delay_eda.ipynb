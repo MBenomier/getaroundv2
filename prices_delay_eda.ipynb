{
 "cells": [
  {
   "cell_type": "markdown",
   "metadata": {},
   "source": [
    "## EDA\n",
    "### 1- Importing libraries & data"
   ]
  },
  {
   "cell_type": "code",
   "execution_count": 58,
   "metadata": {},
   "outputs": [],
   "source": [
    "import pandas as pd\n",
    "import openpyxl # Manipulate excel files \n",
    "import numpy as np\n",
    "import plotly.express as px\n",
    "import seaborn as sns\n",
    "import matplotlib.pyplot as plt\n",
    "\n",
    "pd.options.mode.chained_assignment = None  # config :to control the behavior of pandas when \n",
    "                                           # it encounters warnings related to chained assignments.\n",
    "import warnings"
   ]
  },
  {
   "cell_type": "code",
   "execution_count": 59,
   "metadata": {},
   "outputs": [],
   "source": [
    "delay_df = pd.read_excel('data/get_around_delay_analysis.xlsx',sheet_name='rentals_data') # first sheet\n",
    "doc =  pd.read_excel('data/get_around_delay_analysis.xlsx',sheet_name='Documentation')# second sheet \n",
    "pricing_df = pd.read_csv('data/get_around_pricing_project.csv')"
   ]
  },
  {
   "cell_type": "markdown",
   "metadata": {},
   "source": [
    "### 2- Pricing"
   ]
  },
  {
   "cell_type": "code",
   "execution_count": 60,
   "metadata": {},
   "outputs": [
    {
     "data": {
      "text/html": [
       "<div>\n",
       "<style scoped>\n",
       "    .dataframe tbody tr th:only-of-type {\n",
       "        vertical-align: middle;\n",
       "    }\n",
       "\n",
       "    .dataframe tbody tr th {\n",
       "        vertical-align: top;\n",
       "    }\n",
       "\n",
       "    .dataframe thead th {\n",
       "        text-align: right;\n",
       "    }\n",
       "</style>\n",
       "<table border=\"1\" class=\"dataframe\">\n",
       "  <thead>\n",
       "    <tr style=\"text-align: right;\">\n",
       "      <th></th>\n",
       "      <th>Unnamed: 0</th>\n",
       "      <th>model_key</th>\n",
       "      <th>mileage</th>\n",
       "      <th>engine_power</th>\n",
       "      <th>fuel</th>\n",
       "      <th>paint_color</th>\n",
       "      <th>car_type</th>\n",
       "      <th>private_parking_available</th>\n",
       "      <th>has_gps</th>\n",
       "      <th>has_air_conditioning</th>\n",
       "      <th>automatic_car</th>\n",
       "      <th>has_getaround_connect</th>\n",
       "      <th>has_speed_regulator</th>\n",
       "      <th>winter_tires</th>\n",
       "      <th>rental_price_per_day</th>\n",
       "    </tr>\n",
       "  </thead>\n",
       "  <tbody>\n",
       "    <tr>\n",
       "      <th>0</th>\n",
       "      <td>0</td>\n",
       "      <td>Citroën</td>\n",
       "      <td>140411</td>\n",
       "      <td>100</td>\n",
       "      <td>diesel</td>\n",
       "      <td>black</td>\n",
       "      <td>convertible</td>\n",
       "      <td>True</td>\n",
       "      <td>True</td>\n",
       "      <td>False</td>\n",
       "      <td>False</td>\n",
       "      <td>True</td>\n",
       "      <td>True</td>\n",
       "      <td>True</td>\n",
       "      <td>106</td>\n",
       "    </tr>\n",
       "    <tr>\n",
       "      <th>1</th>\n",
       "      <td>1</td>\n",
       "      <td>Citroën</td>\n",
       "      <td>13929</td>\n",
       "      <td>317</td>\n",
       "      <td>petrol</td>\n",
       "      <td>grey</td>\n",
       "      <td>convertible</td>\n",
       "      <td>True</td>\n",
       "      <td>True</td>\n",
       "      <td>False</td>\n",
       "      <td>False</td>\n",
       "      <td>False</td>\n",
       "      <td>True</td>\n",
       "      <td>True</td>\n",
       "      <td>264</td>\n",
       "    </tr>\n",
       "    <tr>\n",
       "      <th>2</th>\n",
       "      <td>2</td>\n",
       "      <td>Citroën</td>\n",
       "      <td>183297</td>\n",
       "      <td>120</td>\n",
       "      <td>diesel</td>\n",
       "      <td>white</td>\n",
       "      <td>convertible</td>\n",
       "      <td>False</td>\n",
       "      <td>False</td>\n",
       "      <td>False</td>\n",
       "      <td>False</td>\n",
       "      <td>True</td>\n",
       "      <td>False</td>\n",
       "      <td>True</td>\n",
       "      <td>101</td>\n",
       "    </tr>\n",
       "    <tr>\n",
       "      <th>3</th>\n",
       "      <td>3</td>\n",
       "      <td>Citroën</td>\n",
       "      <td>128035</td>\n",
       "      <td>135</td>\n",
       "      <td>diesel</td>\n",
       "      <td>red</td>\n",
       "      <td>convertible</td>\n",
       "      <td>True</td>\n",
       "      <td>True</td>\n",
       "      <td>False</td>\n",
       "      <td>False</td>\n",
       "      <td>True</td>\n",
       "      <td>True</td>\n",
       "      <td>True</td>\n",
       "      <td>158</td>\n",
       "    </tr>\n",
       "    <tr>\n",
       "      <th>4</th>\n",
       "      <td>4</td>\n",
       "      <td>Citroën</td>\n",
       "      <td>97097</td>\n",
       "      <td>160</td>\n",
       "      <td>diesel</td>\n",
       "      <td>silver</td>\n",
       "      <td>convertible</td>\n",
       "      <td>True</td>\n",
       "      <td>True</td>\n",
       "      <td>False</td>\n",
       "      <td>False</td>\n",
       "      <td>False</td>\n",
       "      <td>True</td>\n",
       "      <td>True</td>\n",
       "      <td>183</td>\n",
       "    </tr>\n",
       "  </tbody>\n",
       "</table>\n",
       "</div>"
      ],
      "text/plain": [
       "   Unnamed: 0 model_key  mileage  engine_power    fuel paint_color  \\\n",
       "0           0   Citroën   140411           100  diesel       black   \n",
       "1           1   Citroën    13929           317  petrol        grey   \n",
       "2           2   Citroën   183297           120  diesel       white   \n",
       "3           3   Citroën   128035           135  diesel         red   \n",
       "4           4   Citroën    97097           160  diesel      silver   \n",
       "\n",
       "      car_type  private_parking_available  has_gps  has_air_conditioning  \\\n",
       "0  convertible                       True     True                 False   \n",
       "1  convertible                       True     True                 False   \n",
       "2  convertible                      False    False                 False   \n",
       "3  convertible                       True     True                 False   \n",
       "4  convertible                       True     True                 False   \n",
       "\n",
       "   automatic_car  has_getaround_connect  has_speed_regulator  winter_tires  \\\n",
       "0          False                   True                 True          True   \n",
       "1          False                  False                 True          True   \n",
       "2          False                   True                False          True   \n",
       "3          False                   True                 True          True   \n",
       "4          False                  False                 True          True   \n",
       "\n",
       "   rental_price_per_day  \n",
       "0                   106  \n",
       "1                   264  \n",
       "2                   101  \n",
       "3                   158  \n",
       "4                   183  "
      ]
     },
     "execution_count": 60,
     "metadata": {},
     "output_type": "execute_result"
    }
   ],
   "source": [
    "pricing_df.head()"
   ]
  },
  {
   "cell_type": "code",
   "execution_count": 61,
   "metadata": {},
   "outputs": [
    {
     "data": {
      "text/html": [
       "<div>\n",
       "<style scoped>\n",
       "    .dataframe tbody tr th:only-of-type {\n",
       "        vertical-align: middle;\n",
       "    }\n",
       "\n",
       "    .dataframe tbody tr th {\n",
       "        vertical-align: top;\n",
       "    }\n",
       "\n",
       "    .dataframe thead th {\n",
       "        text-align: right;\n",
       "    }\n",
       "</style>\n",
       "<table border=\"1\" class=\"dataframe\">\n",
       "  <thead>\n",
       "    <tr style=\"text-align: right;\">\n",
       "      <th></th>\n",
       "      <th>model_key</th>\n",
       "      <th>mileage</th>\n",
       "      <th>engine_power</th>\n",
       "      <th>fuel</th>\n",
       "      <th>paint_color</th>\n",
       "      <th>car_type</th>\n",
       "      <th>private_parking_available</th>\n",
       "      <th>has_gps</th>\n",
       "      <th>has_air_conditioning</th>\n",
       "      <th>automatic_car</th>\n",
       "      <th>has_getaround_connect</th>\n",
       "      <th>has_speed_regulator</th>\n",
       "      <th>winter_tires</th>\n",
       "      <th>rental_price_per_day</th>\n",
       "    </tr>\n",
       "  </thead>\n",
       "  <tbody>\n",
       "    <tr>\n",
       "      <th>0</th>\n",
       "      <td>Citroën</td>\n",
       "      <td>140411</td>\n",
       "      <td>100</td>\n",
       "      <td>diesel</td>\n",
       "      <td>black</td>\n",
       "      <td>convertible</td>\n",
       "      <td>True</td>\n",
       "      <td>True</td>\n",
       "      <td>False</td>\n",
       "      <td>False</td>\n",
       "      <td>True</td>\n",
       "      <td>True</td>\n",
       "      <td>True</td>\n",
       "      <td>106</td>\n",
       "    </tr>\n",
       "    <tr>\n",
       "      <th>1</th>\n",
       "      <td>Citroën</td>\n",
       "      <td>13929</td>\n",
       "      <td>317</td>\n",
       "      <td>petrol</td>\n",
       "      <td>grey</td>\n",
       "      <td>convertible</td>\n",
       "      <td>True</td>\n",
       "      <td>True</td>\n",
       "      <td>False</td>\n",
       "      <td>False</td>\n",
       "      <td>False</td>\n",
       "      <td>True</td>\n",
       "      <td>True</td>\n",
       "      <td>264</td>\n",
       "    </tr>\n",
       "    <tr>\n",
       "      <th>2</th>\n",
       "      <td>Citroën</td>\n",
       "      <td>183297</td>\n",
       "      <td>120</td>\n",
       "      <td>diesel</td>\n",
       "      <td>white</td>\n",
       "      <td>convertible</td>\n",
       "      <td>False</td>\n",
       "      <td>False</td>\n",
       "      <td>False</td>\n",
       "      <td>False</td>\n",
       "      <td>True</td>\n",
       "      <td>False</td>\n",
       "      <td>True</td>\n",
       "      <td>101</td>\n",
       "    </tr>\n",
       "    <tr>\n",
       "      <th>3</th>\n",
       "      <td>Citroën</td>\n",
       "      <td>128035</td>\n",
       "      <td>135</td>\n",
       "      <td>diesel</td>\n",
       "      <td>red</td>\n",
       "      <td>convertible</td>\n",
       "      <td>True</td>\n",
       "      <td>True</td>\n",
       "      <td>False</td>\n",
       "      <td>False</td>\n",
       "      <td>True</td>\n",
       "      <td>True</td>\n",
       "      <td>True</td>\n",
       "      <td>158</td>\n",
       "    </tr>\n",
       "    <tr>\n",
       "      <th>4</th>\n",
       "      <td>Citroën</td>\n",
       "      <td>97097</td>\n",
       "      <td>160</td>\n",
       "      <td>diesel</td>\n",
       "      <td>silver</td>\n",
       "      <td>convertible</td>\n",
       "      <td>True</td>\n",
       "      <td>True</td>\n",
       "      <td>False</td>\n",
       "      <td>False</td>\n",
       "      <td>False</td>\n",
       "      <td>True</td>\n",
       "      <td>True</td>\n",
       "      <td>183</td>\n",
       "    </tr>\n",
       "  </tbody>\n",
       "</table>\n",
       "</div>"
      ],
      "text/plain": [
       "  model_key  mileage  engine_power    fuel paint_color     car_type  \\\n",
       "0   Citroën   140411           100  diesel       black  convertible   \n",
       "1   Citroën    13929           317  petrol        grey  convertible   \n",
       "2   Citroën   183297           120  diesel       white  convertible   \n",
       "3   Citroën   128035           135  diesel         red  convertible   \n",
       "4   Citroën    97097           160  diesel      silver  convertible   \n",
       "\n",
       "   private_parking_available  has_gps  has_air_conditioning  automatic_car  \\\n",
       "0                       True     True                 False          False   \n",
       "1                       True     True                 False          False   \n",
       "2                      False    False                 False          False   \n",
       "3                       True     True                 False          False   \n",
       "4                       True     True                 False          False   \n",
       "\n",
       "   has_getaround_connect  has_speed_regulator  winter_tires  \\\n",
       "0                   True                 True          True   \n",
       "1                  False                 True          True   \n",
       "2                   True                False          True   \n",
       "3                   True                 True          True   \n",
       "4                  False                 True          True   \n",
       "\n",
       "   rental_price_per_day  \n",
       "0                   106  \n",
       "1                   264  \n",
       "2                   101  \n",
       "3                   158  \n",
       "4                   183  "
      ]
     },
     "execution_count": 61,
     "metadata": {},
     "output_type": "execute_result"
    }
   ],
   "source": [
    "pricing_df.drop('Unnamed: 0',axis=1,inplace=True) # useless column from pricing  file\n",
    "pricing_df.head()"
   ]
  },
  {
   "cell_type": "code",
   "execution_count": 62,
   "metadata": {},
   "outputs": [
    {
     "data": {
      "text/html": [
       "<div>\n",
       "<style scoped>\n",
       "    .dataframe tbody tr th:only-of-type {\n",
       "        vertical-align: middle;\n",
       "    }\n",
       "\n",
       "    .dataframe tbody tr th {\n",
       "        vertical-align: top;\n",
       "    }\n",
       "\n",
       "    .dataframe thead th {\n",
       "        text-align: right;\n",
       "    }\n",
       "</style>\n",
       "<table border=\"1\" class=\"dataframe\">\n",
       "  <thead>\n",
       "    <tr style=\"text-align: right;\">\n",
       "      <th></th>\n",
       "      <th>model_key</th>\n",
       "      <th>mileage</th>\n",
       "      <th>engine_power</th>\n",
       "      <th>fuel</th>\n",
       "      <th>paint_color</th>\n",
       "      <th>car_type</th>\n",
       "      <th>private_parking_available</th>\n",
       "      <th>has_gps</th>\n",
       "      <th>has_air_conditioning</th>\n",
       "      <th>automatic_car</th>\n",
       "      <th>has_getaround_connect</th>\n",
       "      <th>has_speed_regulator</th>\n",
       "      <th>winter_tires</th>\n",
       "      <th>rental_price_per_day</th>\n",
       "    </tr>\n",
       "  </thead>\n",
       "  <tbody>\n",
       "    <tr>\n",
       "      <th>count</th>\n",
       "      <td>4843</td>\n",
       "      <td>4.843000e+03</td>\n",
       "      <td>4843.00000</td>\n",
       "      <td>4843</td>\n",
       "      <td>4843</td>\n",
       "      <td>4843</td>\n",
       "      <td>4843</td>\n",
       "      <td>4843</td>\n",
       "      <td>4843</td>\n",
       "      <td>4843</td>\n",
       "      <td>4843</td>\n",
       "      <td>4843</td>\n",
       "      <td>4843</td>\n",
       "      <td>4843.000000</td>\n",
       "    </tr>\n",
       "    <tr>\n",
       "      <th>unique</th>\n",
       "      <td>28</td>\n",
       "      <td>NaN</td>\n",
       "      <td>NaN</td>\n",
       "      <td>4</td>\n",
       "      <td>10</td>\n",
       "      <td>8</td>\n",
       "      <td>2</td>\n",
       "      <td>2</td>\n",
       "      <td>2</td>\n",
       "      <td>2</td>\n",
       "      <td>2</td>\n",
       "      <td>2</td>\n",
       "      <td>2</td>\n",
       "      <td>NaN</td>\n",
       "    </tr>\n",
       "    <tr>\n",
       "      <th>top</th>\n",
       "      <td>Citroën</td>\n",
       "      <td>NaN</td>\n",
       "      <td>NaN</td>\n",
       "      <td>diesel</td>\n",
       "      <td>black</td>\n",
       "      <td>estate</td>\n",
       "      <td>True</td>\n",
       "      <td>True</td>\n",
       "      <td>False</td>\n",
       "      <td>False</td>\n",
       "      <td>False</td>\n",
       "      <td>False</td>\n",
       "      <td>True</td>\n",
       "      <td>NaN</td>\n",
       "    </tr>\n",
       "    <tr>\n",
       "      <th>freq</th>\n",
       "      <td>969</td>\n",
       "      <td>NaN</td>\n",
       "      <td>NaN</td>\n",
       "      <td>4641</td>\n",
       "      <td>1633</td>\n",
       "      <td>1606</td>\n",
       "      <td>2662</td>\n",
       "      <td>3839</td>\n",
       "      <td>3865</td>\n",
       "      <td>3881</td>\n",
       "      <td>2613</td>\n",
       "      <td>3674</td>\n",
       "      <td>4514</td>\n",
       "      <td>NaN</td>\n",
       "    </tr>\n",
       "    <tr>\n",
       "      <th>mean</th>\n",
       "      <td>NaN</td>\n",
       "      <td>1.409628e+05</td>\n",
       "      <td>128.98823</td>\n",
       "      <td>NaN</td>\n",
       "      <td>NaN</td>\n",
       "      <td>NaN</td>\n",
       "      <td>NaN</td>\n",
       "      <td>NaN</td>\n",
       "      <td>NaN</td>\n",
       "      <td>NaN</td>\n",
       "      <td>NaN</td>\n",
       "      <td>NaN</td>\n",
       "      <td>NaN</td>\n",
       "      <td>121.214536</td>\n",
       "    </tr>\n",
       "    <tr>\n",
       "      <th>std</th>\n",
       "      <td>NaN</td>\n",
       "      <td>6.019674e+04</td>\n",
       "      <td>38.99336</td>\n",
       "      <td>NaN</td>\n",
       "      <td>NaN</td>\n",
       "      <td>NaN</td>\n",
       "      <td>NaN</td>\n",
       "      <td>NaN</td>\n",
       "      <td>NaN</td>\n",
       "      <td>NaN</td>\n",
       "      <td>NaN</td>\n",
       "      <td>NaN</td>\n",
       "      <td>NaN</td>\n",
       "      <td>33.568268</td>\n",
       "    </tr>\n",
       "    <tr>\n",
       "      <th>min</th>\n",
       "      <td>NaN</td>\n",
       "      <td>-6.400000e+01</td>\n",
       "      <td>0.00000</td>\n",
       "      <td>NaN</td>\n",
       "      <td>NaN</td>\n",
       "      <td>NaN</td>\n",
       "      <td>NaN</td>\n",
       "      <td>NaN</td>\n",
       "      <td>NaN</td>\n",
       "      <td>NaN</td>\n",
       "      <td>NaN</td>\n",
       "      <td>NaN</td>\n",
       "      <td>NaN</td>\n",
       "      <td>10.000000</td>\n",
       "    </tr>\n",
       "    <tr>\n",
       "      <th>25%</th>\n",
       "      <td>NaN</td>\n",
       "      <td>1.029135e+05</td>\n",
       "      <td>100.00000</td>\n",
       "      <td>NaN</td>\n",
       "      <td>NaN</td>\n",
       "      <td>NaN</td>\n",
       "      <td>NaN</td>\n",
       "      <td>NaN</td>\n",
       "      <td>NaN</td>\n",
       "      <td>NaN</td>\n",
       "      <td>NaN</td>\n",
       "      <td>NaN</td>\n",
       "      <td>NaN</td>\n",
       "      <td>104.000000</td>\n",
       "    </tr>\n",
       "    <tr>\n",
       "      <th>50%</th>\n",
       "      <td>NaN</td>\n",
       "      <td>1.410800e+05</td>\n",
       "      <td>120.00000</td>\n",
       "      <td>NaN</td>\n",
       "      <td>NaN</td>\n",
       "      <td>NaN</td>\n",
       "      <td>NaN</td>\n",
       "      <td>NaN</td>\n",
       "      <td>NaN</td>\n",
       "      <td>NaN</td>\n",
       "      <td>NaN</td>\n",
       "      <td>NaN</td>\n",
       "      <td>NaN</td>\n",
       "      <td>119.000000</td>\n",
       "    </tr>\n",
       "    <tr>\n",
       "      <th>75%</th>\n",
       "      <td>NaN</td>\n",
       "      <td>1.751955e+05</td>\n",
       "      <td>135.00000</td>\n",
       "      <td>NaN</td>\n",
       "      <td>NaN</td>\n",
       "      <td>NaN</td>\n",
       "      <td>NaN</td>\n",
       "      <td>NaN</td>\n",
       "      <td>NaN</td>\n",
       "      <td>NaN</td>\n",
       "      <td>NaN</td>\n",
       "      <td>NaN</td>\n",
       "      <td>NaN</td>\n",
       "      <td>136.000000</td>\n",
       "    </tr>\n",
       "    <tr>\n",
       "      <th>max</th>\n",
       "      <td>NaN</td>\n",
       "      <td>1.000376e+06</td>\n",
       "      <td>423.00000</td>\n",
       "      <td>NaN</td>\n",
       "      <td>NaN</td>\n",
       "      <td>NaN</td>\n",
       "      <td>NaN</td>\n",
       "      <td>NaN</td>\n",
       "      <td>NaN</td>\n",
       "      <td>NaN</td>\n",
       "      <td>NaN</td>\n",
       "      <td>NaN</td>\n",
       "      <td>NaN</td>\n",
       "      <td>422.000000</td>\n",
       "    </tr>\n",
       "  </tbody>\n",
       "</table>\n",
       "</div>"
      ],
      "text/plain": [
       "       model_key       mileage  engine_power    fuel paint_color car_type  \\\n",
       "count       4843  4.843000e+03    4843.00000    4843        4843     4843   \n",
       "unique        28           NaN           NaN       4          10        8   \n",
       "top      Citroën           NaN           NaN  diesel       black   estate   \n",
       "freq         969           NaN           NaN    4641        1633     1606   \n",
       "mean         NaN  1.409628e+05     128.98823     NaN         NaN      NaN   \n",
       "std          NaN  6.019674e+04      38.99336     NaN         NaN      NaN   \n",
       "min          NaN -6.400000e+01       0.00000     NaN         NaN      NaN   \n",
       "25%          NaN  1.029135e+05     100.00000     NaN         NaN      NaN   \n",
       "50%          NaN  1.410800e+05     120.00000     NaN         NaN      NaN   \n",
       "75%          NaN  1.751955e+05     135.00000     NaN         NaN      NaN   \n",
       "max          NaN  1.000376e+06     423.00000     NaN         NaN      NaN   \n",
       "\n",
       "       private_parking_available has_gps has_air_conditioning automatic_car  \\\n",
       "count                       4843    4843                 4843          4843   \n",
       "unique                         2       2                    2             2   \n",
       "top                         True    True                False         False   \n",
       "freq                        2662    3839                 3865          3881   \n",
       "mean                         NaN     NaN                  NaN           NaN   \n",
       "std                          NaN     NaN                  NaN           NaN   \n",
       "min                          NaN     NaN                  NaN           NaN   \n",
       "25%                          NaN     NaN                  NaN           NaN   \n",
       "50%                          NaN     NaN                  NaN           NaN   \n",
       "75%                          NaN     NaN                  NaN           NaN   \n",
       "max                          NaN     NaN                  NaN           NaN   \n",
       "\n",
       "       has_getaround_connect has_speed_regulator winter_tires  \\\n",
       "count                   4843                4843         4843   \n",
       "unique                     2                   2            2   \n",
       "top                    False               False         True   \n",
       "freq                    2613                3674         4514   \n",
       "mean                     NaN                 NaN          NaN   \n",
       "std                      NaN                 NaN          NaN   \n",
       "min                      NaN                 NaN          NaN   \n",
       "25%                      NaN                 NaN          NaN   \n",
       "50%                      NaN                 NaN          NaN   \n",
       "75%                      NaN                 NaN          NaN   \n",
       "max                      NaN                 NaN          NaN   \n",
       "\n",
       "        rental_price_per_day  \n",
       "count            4843.000000  \n",
       "unique                   NaN  \n",
       "top                      NaN  \n",
       "freq                     NaN  \n",
       "mean              121.214536  \n",
       "std                33.568268  \n",
       "min                10.000000  \n",
       "25%               104.000000  \n",
       "50%               119.000000  \n",
       "75%               136.000000  \n",
       "max               422.000000  "
      ]
     },
     "execution_count": 62,
     "metadata": {},
     "output_type": "execute_result"
    }
   ],
   "source": [
    "# Stats\n",
    "pricing_df.describe(include='all')"
   ]
  },
  {
   "cell_type": "markdown",
   "metadata": {},
   "source": [
    "* The pricing dataframe is clean, with no missing data. However, there are some anomalies such as a negative minimum mileage and a \n",
    "  maximum of 1000376 !!! .\n",
    "* These indicate the presence of outliers and inconsistent values."
   ]
  },
  {
   "cell_type": "code",
   "execution_count": 63,
   "metadata": {},
   "outputs": [],
   "source": [
    "# Filtering out data points that deviate by 3 standard deviations from the mean for both mileage and daily rental price.\n",
    "\n",
    "prep = pricing_df.loc[pricing_df['mileage'] < pricing_df['mileage'].mean() + pricing_df['mileage'].std()*3]\n",
    "prep = prep.loc[prep['mileage'] > pricing_df['mileage'].mean() - pricing_df['mileage'].std()*3]\n",
    "prep = prep.loc[prep['rental_price_per_day'] < prep['rental_price_per_day'].mean() + prep['rental_price_per_day'].std()*3]\n",
    "prep = prep.loc[prep['rental_price_per_day'] > prep['rental_price_per_day'].mean() - prep['rental_price_per_day'].std()*3]\n",
    "prep = prep.loc[prep['engine_power'] > prep['engine_power'].mean() - prep['engine_power'].std()*3]\n",
    "pricing_df_clean = prep.loc[prep['engine_power'] < prep['engine_power'].mean() + prep['engine_power'].std()*3]"
   ]
  },
  {
   "cell_type": "code",
   "execution_count": 64,
   "metadata": {},
   "outputs": [
    {
     "data": {
      "text/html": [
       "<div>\n",
       "<style scoped>\n",
       "    .dataframe tbody tr th:only-of-type {\n",
       "        vertical-align: middle;\n",
       "    }\n",
       "\n",
       "    .dataframe tbody tr th {\n",
       "        vertical-align: top;\n",
       "    }\n",
       "\n",
       "    .dataframe thead th {\n",
       "        text-align: right;\n",
       "    }\n",
       "</style>\n",
       "<table border=\"1\" class=\"dataframe\">\n",
       "  <thead>\n",
       "    <tr style=\"text-align: right;\">\n",
       "      <th></th>\n",
       "      <th>model_key</th>\n",
       "      <th>mileage</th>\n",
       "      <th>engine_power</th>\n",
       "      <th>fuel</th>\n",
       "      <th>paint_color</th>\n",
       "      <th>car_type</th>\n",
       "      <th>private_parking_available</th>\n",
       "      <th>has_gps</th>\n",
       "      <th>has_air_conditioning</th>\n",
       "      <th>automatic_car</th>\n",
       "      <th>has_getaround_connect</th>\n",
       "      <th>has_speed_regulator</th>\n",
       "      <th>winter_tires</th>\n",
       "      <th>rental_price_per_day</th>\n",
       "    </tr>\n",
       "  </thead>\n",
       "  <tbody>\n",
       "    <tr>\n",
       "      <th>count</th>\n",
       "      <td>4670</td>\n",
       "      <td>4670.000000</td>\n",
       "      <td>4670.000000</td>\n",
       "      <td>4670</td>\n",
       "      <td>4670</td>\n",
       "      <td>4670</td>\n",
       "      <td>4670</td>\n",
       "      <td>4670</td>\n",
       "      <td>4670</td>\n",
       "      <td>4670</td>\n",
       "      <td>4670</td>\n",
       "      <td>4670</td>\n",
       "      <td>4670</td>\n",
       "      <td>4670.000000</td>\n",
       "    </tr>\n",
       "    <tr>\n",
       "      <th>unique</th>\n",
       "      <td>26</td>\n",
       "      <td>NaN</td>\n",
       "      <td>NaN</td>\n",
       "      <td>4</td>\n",
       "      <td>10</td>\n",
       "      <td>8</td>\n",
       "      <td>2</td>\n",
       "      <td>2</td>\n",
       "      <td>2</td>\n",
       "      <td>2</td>\n",
       "      <td>2</td>\n",
       "      <td>2</td>\n",
       "      <td>2</td>\n",
       "      <td>NaN</td>\n",
       "    </tr>\n",
       "    <tr>\n",
       "      <th>top</th>\n",
       "      <td>Citroën</td>\n",
       "      <td>NaN</td>\n",
       "      <td>NaN</td>\n",
       "      <td>diesel</td>\n",
       "      <td>black</td>\n",
       "      <td>estate</td>\n",
       "      <td>True</td>\n",
       "      <td>True</td>\n",
       "      <td>False</td>\n",
       "      <td>False</td>\n",
       "      <td>False</td>\n",
       "      <td>False</td>\n",
       "      <td>True</td>\n",
       "      <td>NaN</td>\n",
       "    </tr>\n",
       "    <tr>\n",
       "      <th>freq</th>\n",
       "      <td>935</td>\n",
       "      <td>NaN</td>\n",
       "      <td>NaN</td>\n",
       "      <td>4496</td>\n",
       "      <td>1575</td>\n",
       "      <td>1561</td>\n",
       "      <td>2563</td>\n",
       "      <td>3733</td>\n",
       "      <td>3741</td>\n",
       "      <td>3758</td>\n",
       "      <td>2489</td>\n",
       "      <td>3545</td>\n",
       "      <td>4366</td>\n",
       "      <td>NaN</td>\n",
       "    </tr>\n",
       "    <tr>\n",
       "      <th>mean</th>\n",
       "      <td>NaN</td>\n",
       "      <td>139374.360171</td>\n",
       "      <td>127.128266</td>\n",
       "      <td>NaN</td>\n",
       "      <td>NaN</td>\n",
       "      <td>NaN</td>\n",
       "      <td>NaN</td>\n",
       "      <td>NaN</td>\n",
       "      <td>NaN</td>\n",
       "      <td>NaN</td>\n",
       "      <td>NaN</td>\n",
       "      <td>NaN</td>\n",
       "      <td>NaN</td>\n",
       "      <td>121.195717</td>\n",
       "    </tr>\n",
       "    <tr>\n",
       "      <th>std</th>\n",
       "      <td>NaN</td>\n",
       "      <td>54298.503227</td>\n",
       "      <td>35.127770</td>\n",
       "      <td>NaN</td>\n",
       "      <td>NaN</td>\n",
       "      <td>NaN</td>\n",
       "      <td>NaN</td>\n",
       "      <td>NaN</td>\n",
       "      <td>NaN</td>\n",
       "      <td>NaN</td>\n",
       "      <td>NaN</td>\n",
       "      <td>NaN</td>\n",
       "      <td>NaN</td>\n",
       "      <td>28.761146</td>\n",
       "    </tr>\n",
       "    <tr>\n",
       "      <th>min</th>\n",
       "      <td>NaN</td>\n",
       "      <td>476.000000</td>\n",
       "      <td>25.000000</td>\n",
       "      <td>NaN</td>\n",
       "      <td>NaN</td>\n",
       "      <td>NaN</td>\n",
       "      <td>NaN</td>\n",
       "      <td>NaN</td>\n",
       "      <td>NaN</td>\n",
       "      <td>NaN</td>\n",
       "      <td>NaN</td>\n",
       "      <td>NaN</td>\n",
       "      <td>NaN</td>\n",
       "      <td>30.000000</td>\n",
       "    </tr>\n",
       "    <tr>\n",
       "      <th>25%</th>\n",
       "      <td>NaN</td>\n",
       "      <td>103330.250000</td>\n",
       "      <td>100.000000</td>\n",
       "      <td>NaN</td>\n",
       "      <td>NaN</td>\n",
       "      <td>NaN</td>\n",
       "      <td>NaN</td>\n",
       "      <td>NaN</td>\n",
       "      <td>NaN</td>\n",
       "      <td>NaN</td>\n",
       "      <td>NaN</td>\n",
       "      <td>NaN</td>\n",
       "      <td>NaN</td>\n",
       "      <td>104.000000</td>\n",
       "    </tr>\n",
       "    <tr>\n",
       "      <th>50%</th>\n",
       "      <td>NaN</td>\n",
       "      <td>140866.500000</td>\n",
       "      <td>120.000000</td>\n",
       "      <td>NaN</td>\n",
       "      <td>NaN</td>\n",
       "      <td>NaN</td>\n",
       "      <td>NaN</td>\n",
       "      <td>NaN</td>\n",
       "      <td>NaN</td>\n",
       "      <td>NaN</td>\n",
       "      <td>NaN</td>\n",
       "      <td>NaN</td>\n",
       "      <td>NaN</td>\n",
       "      <td>119.000000</td>\n",
       "    </tr>\n",
       "    <tr>\n",
       "      <th>75%</th>\n",
       "      <td>NaN</td>\n",
       "      <td>174771.500000</td>\n",
       "      <td>135.000000</td>\n",
       "      <td>NaN</td>\n",
       "      <td>NaN</td>\n",
       "      <td>NaN</td>\n",
       "      <td>NaN</td>\n",
       "      <td>NaN</td>\n",
       "      <td>NaN</td>\n",
       "      <td>NaN</td>\n",
       "      <td>NaN</td>\n",
       "      <td>NaN</td>\n",
       "      <td>NaN</td>\n",
       "      <td>136.000000</td>\n",
       "    </tr>\n",
       "    <tr>\n",
       "      <th>max</th>\n",
       "      <td>NaN</td>\n",
       "      <td>321498.000000</td>\n",
       "      <td>240.000000</td>\n",
       "      <td>NaN</td>\n",
       "      <td>NaN</td>\n",
       "      <td>NaN</td>\n",
       "      <td>NaN</td>\n",
       "      <td>NaN</td>\n",
       "      <td>NaN</td>\n",
       "      <td>NaN</td>\n",
       "      <td>NaN</td>\n",
       "      <td>NaN</td>\n",
       "      <td>NaN</td>\n",
       "      <td>221.000000</td>\n",
       "    </tr>\n",
       "  </tbody>\n",
       "</table>\n",
       "</div>"
      ],
      "text/plain": [
       "       model_key        mileage  engine_power    fuel paint_color car_type  \\\n",
       "count       4670    4670.000000   4670.000000    4670        4670     4670   \n",
       "unique        26            NaN           NaN       4          10        8   \n",
       "top      Citroën            NaN           NaN  diesel       black   estate   \n",
       "freq         935            NaN           NaN    4496        1575     1561   \n",
       "mean         NaN  139374.360171    127.128266     NaN         NaN      NaN   \n",
       "std          NaN   54298.503227     35.127770     NaN         NaN      NaN   \n",
       "min          NaN     476.000000     25.000000     NaN         NaN      NaN   \n",
       "25%          NaN  103330.250000    100.000000     NaN         NaN      NaN   \n",
       "50%          NaN  140866.500000    120.000000     NaN         NaN      NaN   \n",
       "75%          NaN  174771.500000    135.000000     NaN         NaN      NaN   \n",
       "max          NaN  321498.000000    240.000000     NaN         NaN      NaN   \n",
       "\n",
       "       private_parking_available has_gps has_air_conditioning automatic_car  \\\n",
       "count                       4670    4670                 4670          4670   \n",
       "unique                         2       2                    2             2   \n",
       "top                         True    True                False         False   \n",
       "freq                        2563    3733                 3741          3758   \n",
       "mean                         NaN     NaN                  NaN           NaN   \n",
       "std                          NaN     NaN                  NaN           NaN   \n",
       "min                          NaN     NaN                  NaN           NaN   \n",
       "25%                          NaN     NaN                  NaN           NaN   \n",
       "50%                          NaN     NaN                  NaN           NaN   \n",
       "75%                          NaN     NaN                  NaN           NaN   \n",
       "max                          NaN     NaN                  NaN           NaN   \n",
       "\n",
       "       has_getaround_connect has_speed_regulator winter_tires  \\\n",
       "count                   4670                4670         4670   \n",
       "unique                     2                   2            2   \n",
       "top                    False               False         True   \n",
       "freq                    2489                3545         4366   \n",
       "mean                     NaN                 NaN          NaN   \n",
       "std                      NaN                 NaN          NaN   \n",
       "min                      NaN                 NaN          NaN   \n",
       "25%                      NaN                 NaN          NaN   \n",
       "50%                      NaN                 NaN          NaN   \n",
       "75%                      NaN                 NaN          NaN   \n",
       "max                      NaN                 NaN          NaN   \n",
       "\n",
       "        rental_price_per_day  \n",
       "count            4670.000000  \n",
       "unique                   NaN  \n",
       "top                      NaN  \n",
       "freq                     NaN  \n",
       "mean              121.195717  \n",
       "std                28.761146  \n",
       "min                30.000000  \n",
       "25%               104.000000  \n",
       "50%               119.000000  \n",
       "75%               136.000000  \n",
       "max               221.000000  "
      ]
     },
     "execution_count": 64,
     "metadata": {},
     "output_type": "execute_result"
    }
   ],
   "source": [
    "pricing_df_clean.describe(include='all')"
   ]
  },
  {
   "cell_type": "code",
   "execution_count": 65,
   "metadata": {},
   "outputs": [
    {
     "name": "stdout",
     "output_type": "stream",
     "text": [
      " After removing outliers, our new dataframe has 96.43% of previous data\n"
     ]
    }
   ],
   "source": [
    "print(f\" After removing outliers, our new dataframe has {round(len(pricing_df_clean)/len(pricing_df)*100,2)}% of previous data\")"
   ]
  },
  {
   "cell_type": "markdown",
   "metadata": {},
   "source": [
    "#### Plotting how much money rentals actually bring in, per car brand"
   ]
  },
  {
   "cell_type": "code",
   "execution_count": 66,
   "metadata": {},
   "outputs": [
    {
     "data": {
      "application/vnd.plotly.v1+json": {
       "config": {
        "plotlyServerURL": "https://plot.ly"
       },
       "data": [
        {
         "alignmentgroup": "True",
         "hovertemplate": "model_key=%{x}<br>Rental Price per Day=%{marker.color}<extra></extra>",
         "legendgroup": "",
         "marker": {
          "color": [
           108618,
           103611,
           94331,
           67514,
           65581,
           37025,
           30317,
           11772,
           8214,
           7959,
           6094,
           5134,
           5005,
           4726,
           4133,
           2104,
           868,
           627,
           555,
           477,
           473,
           315,
           186,
           145,
           133,
           67
          ],
          "coloraxis": "coloraxis",
          "pattern": {
           "shape": ""
          }
         },
         "name": "",
         "offsetgroup": "",
         "orientation": "v",
         "showlegend": false,
         "textposition": "auto",
         "type": "bar",
         "x": [
          "Renault",
          "Citroën",
          "BMW",
          "Audi",
          "Peugeot",
          "Mitsubishi",
          "Nissan",
          "Mercedes",
          "Volkswagen",
          "SEAT",
          "Toyota",
          "Opel",
          "Subaru",
          "Ferrari",
          "PGO",
          "Maserati",
          "Porsche",
          "Suzuki",
          "Ford",
          "KIA Motors",
          "Alfa Romeo",
          "Lamborghini",
          "Fiat",
          "Honda",
          "Yamaha",
          "Mazda"
         ],
         "xaxis": "x",
         "y": [
          108618,
          103611,
          94331,
          67514,
          65581,
          37025,
          30317,
          11772,
          8214,
          7959,
          6094,
          5134,
          5005,
          4726,
          4133,
          2104,
          868,
          627,
          555,
          477,
          473,
          315,
          186,
          145,
          133,
          67
         ],
         "yaxis": "y"
        }
       ],
       "layout": {
        "barmode": "relative",
        "coloraxis": {
         "colorbar": {
          "title": {
           "text": "Rental Price per Day"
          }
         },
         "colorscale": [
          [
           0,
           "#0d0887"
          ],
          [
           0.1111111111111111,
           "#46039f"
          ],
          [
           0.2222222222222222,
           "#7201a8"
          ],
          [
           0.3333333333333333,
           "#9c179e"
          ],
          [
           0.4444444444444444,
           "#bd3786"
          ],
          [
           0.5555555555555556,
           "#d8576b"
          ],
          [
           0.6666666666666666,
           "#ed7953"
          ],
          [
           0.7777777777777778,
           "#fb9f3a"
          ],
          [
           0.8888888888888888,
           "#fdca26"
          ],
          [
           1,
           "#f0f921"
          ]
         ]
        },
        "height": 500,
        "legend": {
         "tracegroupgap": 0
        },
        "template": {
         "data": {
          "bar": [
           {
            "error_x": {
             "color": "#2a3f5f"
            },
            "error_y": {
             "color": "#2a3f5f"
            },
            "marker": {
             "line": {
              "color": "#E5ECF6",
              "width": 0.5
             },
             "pattern": {
              "fillmode": "overlay",
              "size": 10,
              "solidity": 0.2
             }
            },
            "type": "bar"
           }
          ],
          "barpolar": [
           {
            "marker": {
             "line": {
              "color": "#E5ECF6",
              "width": 0.5
             },
             "pattern": {
              "fillmode": "overlay",
              "size": 10,
              "solidity": 0.2
             }
            },
            "type": "barpolar"
           }
          ],
          "carpet": [
           {
            "aaxis": {
             "endlinecolor": "#2a3f5f",
             "gridcolor": "white",
             "linecolor": "white",
             "minorgridcolor": "white",
             "startlinecolor": "#2a3f5f"
            },
            "baxis": {
             "endlinecolor": "#2a3f5f",
             "gridcolor": "white",
             "linecolor": "white",
             "minorgridcolor": "white",
             "startlinecolor": "#2a3f5f"
            },
            "type": "carpet"
           }
          ],
          "choropleth": [
           {
            "colorbar": {
             "outlinewidth": 0,
             "ticks": ""
            },
            "type": "choropleth"
           }
          ],
          "contour": [
           {
            "colorbar": {
             "outlinewidth": 0,
             "ticks": ""
            },
            "colorscale": [
             [
              0,
              "#0d0887"
             ],
             [
              0.1111111111111111,
              "#46039f"
             ],
             [
              0.2222222222222222,
              "#7201a8"
             ],
             [
              0.3333333333333333,
              "#9c179e"
             ],
             [
              0.4444444444444444,
              "#bd3786"
             ],
             [
              0.5555555555555556,
              "#d8576b"
             ],
             [
              0.6666666666666666,
              "#ed7953"
             ],
             [
              0.7777777777777778,
              "#fb9f3a"
             ],
             [
              0.8888888888888888,
              "#fdca26"
             ],
             [
              1,
              "#f0f921"
             ]
            ],
            "type": "contour"
           }
          ],
          "contourcarpet": [
           {
            "colorbar": {
             "outlinewidth": 0,
             "ticks": ""
            },
            "type": "contourcarpet"
           }
          ],
          "heatmap": [
           {
            "colorbar": {
             "outlinewidth": 0,
             "ticks": ""
            },
            "colorscale": [
             [
              0,
              "#0d0887"
             ],
             [
              0.1111111111111111,
              "#46039f"
             ],
             [
              0.2222222222222222,
              "#7201a8"
             ],
             [
              0.3333333333333333,
              "#9c179e"
             ],
             [
              0.4444444444444444,
              "#bd3786"
             ],
             [
              0.5555555555555556,
              "#d8576b"
             ],
             [
              0.6666666666666666,
              "#ed7953"
             ],
             [
              0.7777777777777778,
              "#fb9f3a"
             ],
             [
              0.8888888888888888,
              "#fdca26"
             ],
             [
              1,
              "#f0f921"
             ]
            ],
            "type": "heatmap"
           }
          ],
          "heatmapgl": [
           {
            "colorbar": {
             "outlinewidth": 0,
             "ticks": ""
            },
            "colorscale": [
             [
              0,
              "#0d0887"
             ],
             [
              0.1111111111111111,
              "#46039f"
             ],
             [
              0.2222222222222222,
              "#7201a8"
             ],
             [
              0.3333333333333333,
              "#9c179e"
             ],
             [
              0.4444444444444444,
              "#bd3786"
             ],
             [
              0.5555555555555556,
              "#d8576b"
             ],
             [
              0.6666666666666666,
              "#ed7953"
             ],
             [
              0.7777777777777778,
              "#fb9f3a"
             ],
             [
              0.8888888888888888,
              "#fdca26"
             ],
             [
              1,
              "#f0f921"
             ]
            ],
            "type": "heatmapgl"
           }
          ],
          "histogram": [
           {
            "marker": {
             "pattern": {
              "fillmode": "overlay",
              "size": 10,
              "solidity": 0.2
             }
            },
            "type": "histogram"
           }
          ],
          "histogram2d": [
           {
            "colorbar": {
             "outlinewidth": 0,
             "ticks": ""
            },
            "colorscale": [
             [
              0,
              "#0d0887"
             ],
             [
              0.1111111111111111,
              "#46039f"
             ],
             [
              0.2222222222222222,
              "#7201a8"
             ],
             [
              0.3333333333333333,
              "#9c179e"
             ],
             [
              0.4444444444444444,
              "#bd3786"
             ],
             [
              0.5555555555555556,
              "#d8576b"
             ],
             [
              0.6666666666666666,
              "#ed7953"
             ],
             [
              0.7777777777777778,
              "#fb9f3a"
             ],
             [
              0.8888888888888888,
              "#fdca26"
             ],
             [
              1,
              "#f0f921"
             ]
            ],
            "type": "histogram2d"
           }
          ],
          "histogram2dcontour": [
           {
            "colorbar": {
             "outlinewidth": 0,
             "ticks": ""
            },
            "colorscale": [
             [
              0,
              "#0d0887"
             ],
             [
              0.1111111111111111,
              "#46039f"
             ],
             [
              0.2222222222222222,
              "#7201a8"
             ],
             [
              0.3333333333333333,
              "#9c179e"
             ],
             [
              0.4444444444444444,
              "#bd3786"
             ],
             [
              0.5555555555555556,
              "#d8576b"
             ],
             [
              0.6666666666666666,
              "#ed7953"
             ],
             [
              0.7777777777777778,
              "#fb9f3a"
             ],
             [
              0.8888888888888888,
              "#fdca26"
             ],
             [
              1,
              "#f0f921"
             ]
            ],
            "type": "histogram2dcontour"
           }
          ],
          "mesh3d": [
           {
            "colorbar": {
             "outlinewidth": 0,
             "ticks": ""
            },
            "type": "mesh3d"
           }
          ],
          "parcoords": [
           {
            "line": {
             "colorbar": {
              "outlinewidth": 0,
              "ticks": ""
             }
            },
            "type": "parcoords"
           }
          ],
          "pie": [
           {
            "automargin": true,
            "type": "pie"
           }
          ],
          "scatter": [
           {
            "fillpattern": {
             "fillmode": "overlay",
             "size": 10,
             "solidity": 0.2
            },
            "type": "scatter"
           }
          ],
          "scatter3d": [
           {
            "line": {
             "colorbar": {
              "outlinewidth": 0,
              "ticks": ""
             }
            },
            "marker": {
             "colorbar": {
              "outlinewidth": 0,
              "ticks": ""
             }
            },
            "type": "scatter3d"
           }
          ],
          "scattercarpet": [
           {
            "marker": {
             "colorbar": {
              "outlinewidth": 0,
              "ticks": ""
             }
            },
            "type": "scattercarpet"
           }
          ],
          "scattergeo": [
           {
            "marker": {
             "colorbar": {
              "outlinewidth": 0,
              "ticks": ""
             }
            },
            "type": "scattergeo"
           }
          ],
          "scattergl": [
           {
            "marker": {
             "colorbar": {
              "outlinewidth": 0,
              "ticks": ""
             }
            },
            "type": "scattergl"
           }
          ],
          "scattermapbox": [
           {
            "marker": {
             "colorbar": {
              "outlinewidth": 0,
              "ticks": ""
             }
            },
            "type": "scattermapbox"
           }
          ],
          "scatterpolar": [
           {
            "marker": {
             "colorbar": {
              "outlinewidth": 0,
              "ticks": ""
             }
            },
            "type": "scatterpolar"
           }
          ],
          "scatterpolargl": [
           {
            "marker": {
             "colorbar": {
              "outlinewidth": 0,
              "ticks": ""
             }
            },
            "type": "scatterpolargl"
           }
          ],
          "scatterternary": [
           {
            "marker": {
             "colorbar": {
              "outlinewidth": 0,
              "ticks": ""
             }
            },
            "type": "scatterternary"
           }
          ],
          "surface": [
           {
            "colorbar": {
             "outlinewidth": 0,
             "ticks": ""
            },
            "colorscale": [
             [
              0,
              "#0d0887"
             ],
             [
              0.1111111111111111,
              "#46039f"
             ],
             [
              0.2222222222222222,
              "#7201a8"
             ],
             [
              0.3333333333333333,
              "#9c179e"
             ],
             [
              0.4444444444444444,
              "#bd3786"
             ],
             [
              0.5555555555555556,
              "#d8576b"
             ],
             [
              0.6666666666666666,
              "#ed7953"
             ],
             [
              0.7777777777777778,
              "#fb9f3a"
             ],
             [
              0.8888888888888888,
              "#fdca26"
             ],
             [
              1,
              "#f0f921"
             ]
            ],
            "type": "surface"
           }
          ],
          "table": [
           {
            "cells": {
             "fill": {
              "color": "#EBF0F8"
             },
             "line": {
              "color": "white"
             }
            },
            "header": {
             "fill": {
              "color": "#C8D4E3"
             },
             "line": {
              "color": "white"
             }
            },
            "type": "table"
           }
          ]
         },
         "layout": {
          "annotationdefaults": {
           "arrowcolor": "#2a3f5f",
           "arrowhead": 0,
           "arrowwidth": 1
          },
          "autotypenumbers": "strict",
          "coloraxis": {
           "colorbar": {
            "outlinewidth": 0,
            "ticks": ""
           }
          },
          "colorscale": {
           "diverging": [
            [
             0,
             "#8e0152"
            ],
            [
             0.1,
             "#c51b7d"
            ],
            [
             0.2,
             "#de77ae"
            ],
            [
             0.3,
             "#f1b6da"
            ],
            [
             0.4,
             "#fde0ef"
            ],
            [
             0.5,
             "#f7f7f7"
            ],
            [
             0.6,
             "#e6f5d0"
            ],
            [
             0.7,
             "#b8e186"
            ],
            [
             0.8,
             "#7fbc41"
            ],
            [
             0.9,
             "#4d9221"
            ],
            [
             1,
             "#276419"
            ]
           ],
           "sequential": [
            [
             0,
             "#0d0887"
            ],
            [
             0.1111111111111111,
             "#46039f"
            ],
            [
             0.2222222222222222,
             "#7201a8"
            ],
            [
             0.3333333333333333,
             "#9c179e"
            ],
            [
             0.4444444444444444,
             "#bd3786"
            ],
            [
             0.5555555555555556,
             "#d8576b"
            ],
            [
             0.6666666666666666,
             "#ed7953"
            ],
            [
             0.7777777777777778,
             "#fb9f3a"
            ],
            [
             0.8888888888888888,
             "#fdca26"
            ],
            [
             1,
             "#f0f921"
            ]
           ],
           "sequentialminus": [
            [
             0,
             "#0d0887"
            ],
            [
             0.1111111111111111,
             "#46039f"
            ],
            [
             0.2222222222222222,
             "#7201a8"
            ],
            [
             0.3333333333333333,
             "#9c179e"
            ],
            [
             0.4444444444444444,
             "#bd3786"
            ],
            [
             0.5555555555555556,
             "#d8576b"
            ],
            [
             0.6666666666666666,
             "#ed7953"
            ],
            [
             0.7777777777777778,
             "#fb9f3a"
            ],
            [
             0.8888888888888888,
             "#fdca26"
            ],
            [
             1,
             "#f0f921"
            ]
           ]
          },
          "colorway": [
           "#636efa",
           "#EF553B",
           "#00cc96",
           "#ab63fa",
           "#FFA15A",
           "#19d3f3",
           "#FF6692",
           "#B6E880",
           "#FF97FF",
           "#FECB52"
          ],
          "font": {
           "color": "#2a3f5f"
          },
          "geo": {
           "bgcolor": "white",
           "lakecolor": "white",
           "landcolor": "#E5ECF6",
           "showlakes": true,
           "showland": true,
           "subunitcolor": "white"
          },
          "hoverlabel": {
           "align": "left"
          },
          "hovermode": "closest",
          "mapbox": {
           "style": "light"
          },
          "paper_bgcolor": "white",
          "plot_bgcolor": "#E5ECF6",
          "polar": {
           "angularaxis": {
            "gridcolor": "white",
            "linecolor": "white",
            "ticks": ""
           },
           "bgcolor": "#E5ECF6",
           "radialaxis": {
            "gridcolor": "white",
            "linecolor": "white",
            "ticks": ""
           }
          },
          "scene": {
           "xaxis": {
            "backgroundcolor": "#E5ECF6",
            "gridcolor": "white",
            "gridwidth": 2,
            "linecolor": "white",
            "showbackground": true,
            "ticks": "",
            "zerolinecolor": "white"
           },
           "yaxis": {
            "backgroundcolor": "#E5ECF6",
            "gridcolor": "white",
            "gridwidth": 2,
            "linecolor": "white",
            "showbackground": true,
            "ticks": "",
            "zerolinecolor": "white"
           },
           "zaxis": {
            "backgroundcolor": "#E5ECF6",
            "gridcolor": "white",
            "gridwidth": 2,
            "linecolor": "white",
            "showbackground": true,
            "ticks": "",
            "zerolinecolor": "white"
           }
          },
          "shapedefaults": {
           "line": {
            "color": "#2a3f5f"
           }
          },
          "ternary": {
           "aaxis": {
            "gridcolor": "white",
            "linecolor": "white",
            "ticks": ""
           },
           "baxis": {
            "gridcolor": "white",
            "linecolor": "white",
            "ticks": ""
           },
           "bgcolor": "#E5ECF6",
           "caxis": {
            "gridcolor": "white",
            "linecolor": "white",
            "ticks": ""
           }
          },
          "title": {
           "x": 0.05
          },
          "xaxis": {
           "automargin": true,
           "gridcolor": "white",
           "linecolor": "white",
           "ticks": "",
           "title": {
            "standoff": 15
           },
           "zerolinecolor": "white",
           "zerolinewidth": 2
          },
          "yaxis": {
           "automargin": true,
           "gridcolor": "white",
           "linecolor": "white",
           "ticks": "",
           "title": {
            "standoff": 15
           },
           "zerolinecolor": "white",
           "zerolinewidth": 2
          }
         }
        },
        "title": {
         "text": "Total Rental Price per Day by Model"
        },
        "width": 900,
        "xaxis": {
         "anchor": "y",
         "domain": [
          0,
          1
         ],
         "tickangle": 40,
         "title": {
          "text": "model_key"
         }
        },
        "yaxis": {
         "anchor": "x",
         "domain": [
          0,
          1
         ],
         "title": {
          "text": "Rental Price per Day"
         }
        }
       }
      }
     },
     "metadata": {},
     "output_type": "display_data"
    }
   ],
   "source": [
    "\n",
    "models_df = pricing_df_clean.groupby('model_key')['rental_price_per_day'].sum().reset_index().sort_values(by='rental_price_per_day', ascending=False)\n",
    "\n",
    "fig = px.bar(models_df, x='model_key',\n",
    "             y='rental_price_per_day', \n",
    "             color='rental_price_per_day',\n",
    "             labels={'rental_price_per_day': 'Rental Price per Day'},\n",
    "             title='Total Rental Price per Day by Model',\n",
    "             template='plotly', width=900, height=500)\n",
    "\n",
    "\n",
    "fig.update_layout(xaxis=dict(tickangle=40))\n",
    "fig.show()"
   ]
  },
  {
   "cell_type": "markdown",
   "metadata": {},
   "source": [
    "* The top 5 brands (Renault, Citroën, BMW, Audi, and Peugeot) are positioned on the more affordable side;  \n",
    "  however, they play a significantly more crucial role for the business, contributing to over 75% of the total \n",
    "  income derived from rentals."
   ]
  },
  {
   "cell_type": "code",
   "execution_count": 67,
   "metadata": {},
   "outputs": [
    {
     "data": {
      "image/png": "[encoded data removed]",
      "text/plain": [
       "<Figure size 1000x600 with 1 Axes>"
      ]
     },
     "metadata": {},
     "output_type": "display_data"
    }
   ],
   "source": [
    "plt.figure(figsize=(10,6))\n",
    "sns.histplot(pricing_df_clean['rental_price_per_day'])\n",
    "plt.show()"
   ]
  },
  {
   "attachments": {},
   "cell_type": "markdown",
   "metadata": {},
   "source": [
    "Most rentals cost between 100 and 150 per day"
   ]
  },
  {
   "cell_type": "code",
   "execution_count": 68,
   "metadata": {},
   "outputs": [
    {
     "data": {
      "image/png": "[encoded data removed]",
      "text/plain": [
       "<Figure size 1000x600 with 1 Axes>"
      ]
     },
     "metadata": {},
     "output_type": "display_data"
    }
   ],
   "source": [
    "plt.figure(figsize=(10,6))\n",
    "sns.histplot(pricing_df_clean['mileage'])\n",
    "plt.show()"
   ]
  },
  {
   "attachments": {},
   "cell_type": "markdown",
   "metadata": {},
   "source": [
    "A lot of cars are far from new, but only few have more than 200.000 kms (I am assuming kilometers since we're in Europe...) and most seem to get retired at this point ."
   ]
  },
  {
   "cell_type": "markdown",
   "metadata": {},
   "source": [
    "### 3-DELAY"
   ]
  },
  {
   "cell_type": "code",
   "execution_count": 69,
   "metadata": {},
   "outputs": [
    {
     "data": {
      "text/html": [
       "<div>\n",
       "<style scoped>\n",
       "    .dataframe tbody tr th:only-of-type {\n",
       "        vertical-align: middle;\n",
       "    }\n",
       "\n",
       "    .dataframe tbody tr th {\n",
       "        vertical-align: top;\n",
       "    }\n",
       "\n",
       "    .dataframe thead th {\n",
       "        text-align: right;\n",
       "    }\n",
       "</style>\n",
       "<table border=\"1\" class=\"dataframe\">\n",
       "  <thead>\n",
       "    <tr style=\"text-align: right;\">\n",
       "      <th></th>\n",
       "      <th>rental_id</th>\n",
       "      <th>car_id</th>\n",
       "      <th>checkin_type</th>\n",
       "      <th>state</th>\n",
       "      <th>delay_at_checkout_in_minutes</th>\n",
       "      <th>previous_ended_rental_id</th>\n",
       "      <th>time_delta_with_previous_rental_in_minutes</th>\n",
       "    </tr>\n",
       "  </thead>\n",
       "  <tbody>\n",
       "    <tr>\n",
       "      <th>0</th>\n",
       "      <td>505000</td>\n",
       "      <td>363965</td>\n",
       "      <td>mobile</td>\n",
       "      <td>canceled</td>\n",
       "      <td>NaN</td>\n",
       "      <td>NaN</td>\n",
       "      <td>NaN</td>\n",
       "    </tr>\n",
       "    <tr>\n",
       "      <th>1</th>\n",
       "      <td>507750</td>\n",
       "      <td>269550</td>\n",
       "      <td>mobile</td>\n",
       "      <td>ended</td>\n",
       "      <td>-81.0</td>\n",
       "      <td>NaN</td>\n",
       "      <td>NaN</td>\n",
       "    </tr>\n",
       "    <tr>\n",
       "      <th>2</th>\n",
       "      <td>508131</td>\n",
       "      <td>359049</td>\n",
       "      <td>connect</td>\n",
       "      <td>ended</td>\n",
       "      <td>70.0</td>\n",
       "      <td>NaN</td>\n",
       "      <td>NaN</td>\n",
       "    </tr>\n",
       "    <tr>\n",
       "      <th>3</th>\n",
       "      <td>508865</td>\n",
       "      <td>299063</td>\n",
       "      <td>connect</td>\n",
       "      <td>canceled</td>\n",
       "      <td>NaN</td>\n",
       "      <td>NaN</td>\n",
       "      <td>NaN</td>\n",
       "    </tr>\n",
       "    <tr>\n",
       "      <th>4</th>\n",
       "      <td>511440</td>\n",
       "      <td>313932</td>\n",
       "      <td>mobile</td>\n",
       "      <td>ended</td>\n",
       "      <td>NaN</td>\n",
       "      <td>NaN</td>\n",
       "      <td>NaN</td>\n",
       "    </tr>\n",
       "  </tbody>\n",
       "</table>\n",
       "</div>"
      ],
      "text/plain": [
       "   rental_id  car_id checkin_type     state  delay_at_checkout_in_minutes  \\\n",
       "0     505000  363965       mobile  canceled                           NaN   \n",
       "1     507750  269550       mobile     ended                         -81.0   \n",
       "2     508131  359049      connect     ended                          70.0   \n",
       "3     508865  299063      connect  canceled                           NaN   \n",
       "4     511440  313932       mobile     ended                           NaN   \n",
       "\n",
       "   previous_ended_rental_id  time_delta_with_previous_rental_in_minutes  \n",
       "0                       NaN                                         NaN  \n",
       "1                       NaN                                         NaN  \n",
       "2                       NaN                                         NaN  \n",
       "3                       NaN                                         NaN  \n",
       "4                       NaN                                         NaN  "
      ]
     },
     "execution_count": 69,
     "metadata": {},
     "output_type": "execute_result"
    }
   ],
   "source": [
    "delay_df.head()"
   ]
  },
  {
   "attachments": {},
   "cell_type": "markdown",
   "metadata": {},
   "source": [
    "Unfortunately, we don't have a direct correspondance between the 2 datasets ; a shared key such as car_id would be useful."
   ]
  },
  {
   "cell_type": "code",
   "execution_count": 70,
   "metadata": {},
   "outputs": [
    {
     "data": {
      "text/plain": [
       "rental_id                                         0\n",
       "car_id                                            0\n",
       "checkin_type                                      0\n",
       "state                                             0\n",
       "delay_at_checkout_in_minutes                   4964\n",
       "previous_ended_rental_id                      19469\n",
       "time_delta_with_previous_rental_in_minutes    19469\n",
       "dtype: int64"
      ]
     },
     "execution_count": 70,
     "metadata": {},
     "output_type": "execute_result"
    }
   ],
   "source": [
    "delay_df.isna().sum()"
   ]
  },
  {
   "cell_type": "code",
   "execution_count": 71,
   "metadata": {},
   "outputs": [
    {
     "data": {
      "text/html": [
       "<div>\n",
       "<style scoped>\n",
       "    .dataframe tbody tr th:only-of-type {\n",
       "        vertical-align: middle;\n",
       "    }\n",
       "\n",
       "    .dataframe tbody tr th {\n",
       "        vertical-align: top;\n",
       "    }\n",
       "\n",
       "    .dataframe thead th {\n",
       "        text-align: right;\n",
       "    }\n",
       "</style>\n",
       "<table border=\"1\" class=\"dataframe\">\n",
       "  <thead>\n",
       "    <tr style=\"text-align: right;\">\n",
       "      <th></th>\n",
       "      <th>field name</th>\n",
       "      <th>Comment</th>\n",
       "    </tr>\n",
       "  </thead>\n",
       "  <tbody>\n",
       "    <tr>\n",
       "      <th>0</th>\n",
       "      <td>rental_id</td>\n",
       "      <td>Unique identifier of the rental</td>\n",
       "    </tr>\n",
       "    <tr>\n",
       "      <th>1</th>\n",
       "      <td>car_id</td>\n",
       "      <td>Unique identifier of the car</td>\n",
       "    </tr>\n",
       "    <tr>\n",
       "      <th>2</th>\n",
       "      <td>checkin_type</td>\n",
       "      <td>Flow used for both checkin and checkout. (ie. access and return the car)\\nmobile = rental agreement signed on the owner's smartphone\\nconnect = car equiped with the Connect technology , opened by the driver with his smartphone.\\nNote: paper contracts were excluded from the data as we have no data on their delay at checkout and it's negligible use case</td>\n",
       "    </tr>\n",
       "    <tr>\n",
       "      <th>3</th>\n",
       "      <td>state</td>\n",
       "      <td>canceled means that the rental did not happen (was canceled by the driver or the owner).</td>\n",
       "    </tr>\n",
       "    <tr>\n",
       "      <th>4</th>\n",
       "      <td>delay_at_checkout_in_minutes</td>\n",
       "      <td>Difference in minutes between the rental end time requested by the driver when booking the car and the actual time the driver completed the checkout. Negative values mean that the driver returned the car in advance.</td>\n",
       "    </tr>\n",
       "    <tr>\n",
       "      <th>5</th>\n",
       "      <td>previous_ended_rental_id</td>\n",
       "      <td>id of the previous ended rental of the car (NULL when no previous rental or delay with previous rental higher than 12 hours)</td>\n",
       "    </tr>\n",
       "    <tr>\n",
       "      <th>6</th>\n",
       "      <td>time_delta_with_previous_rental_in_minutes</td>\n",
       "      <td>Difference in minutes between this rental planned start time and the previous rental planned end time (when lower than 12 hours, NULL if higher)</td>\n",
       "    </tr>\n",
       "  </tbody>\n",
       "</table>\n",
       "</div>"
      ],
      "text/plain": [
       "                                   field name  \\\n",
       "0                                   rental_id   \n",
       "1                                      car_id   \n",
       "2                                checkin_type   \n",
       "3                                       state   \n",
       "4                delay_at_checkout_in_minutes   \n",
       "5                    previous_ended_rental_id   \n",
       "6  time_delta_with_previous_rental_in_minutes   \n",
       "\n",
       "                                                                                                                                                                                                                                                                                                                                                             Comment  \n",
       "0                                                                                                                                                                                                                                                                                                                                    Unique identifier of the rental  \n",
       "1                                                                                                                                                                                                                                                                                                                                       Unique identifier of the car  \n",
       "2  Flow used for both checkin and checkout. (ie. access and return the car)\\nmobile = rental agreement signed on the owner's smartphone\\nconnect = car equiped with the Connect technology , opened by the driver with his smartphone.\\nNote: paper contracts were excluded from the data as we have no data on their delay at checkout and it's negligible use case  \n",
       "3                                                                                                                                                                                                                                                                           canceled means that the rental did not happen (was canceled by the driver or the owner).  \n",
       "4                                                                                                                                            Difference in minutes between the rental end time requested by the driver when booking the car and the actual time the driver completed the checkout. Negative values mean that the driver returned the car in advance.  \n",
       "5                                                                                                                                                                                                                                       id of the previous ended rental of the car (NULL when no previous rental or delay with previous rental higher than 12 hours)  \n",
       "6                                                                                                                                                                                                                   Difference in minutes between this rental planned start time and the previous rental planned end time (when lower than 12 hours, NULL if higher)  "
      ]
     },
     "metadata": {},
     "output_type": "display_data"
    }
   ],
   "source": [
    "with pd.option_context('display.max_colwidth', None):\n",
    "  display(doc)"
   ]
  },
  {
   "cell_type": "code",
   "execution_count": 72,
   "metadata": {},
   "outputs": [
    {
     "data": {
      "text/plain": [
       "checkout\n",
       "Early          6820\n",
       "NA             4964\n",
       "Very late      2568\n",
       "Late 0-15      2003\n",
       "Late 60-120    1860\n",
       "Late 30-60     1722\n",
       "Late 15-30     1373\n",
       "Name: count, dtype: int64"
      ]
     },
     "metadata": {},
     "output_type": "display_data"
    }
   ],
   "source": [
    "checkout = []\n",
    "for x in delay_df['delay_at_checkout_in_minutes']:\n",
    "    if x < 0:\n",
    "        checkout.append('Early')\n",
    "    elif x < 15:\n",
    "        checkout.append('Late 0-15')\n",
    "    elif x < 30:\n",
    "        checkout.append('Late 15-30')\n",
    "    elif x < 60:\n",
    "        checkout.append('Late 30-60')\n",
    "    elif x < 120 :\n",
    "        checkout.append('Late 60-120')\n",
    "    elif x >= 120 :\n",
    "        checkout.append('Very late')        \n",
    "    else:\n",
    "        checkout.append('NA')\n",
    "\n",
    "delay_df['checkout'] = checkout\n",
    "display(delay_df['checkout'].value_counts())"
   ]
  },
  {
   "cell_type": "code",
   "execution_count": 73,
   "metadata": {},
   "outputs": [],
   "source": [
    "# Add another column next_rental with boolean values \n",
    "delay_df['next_rental'] = [True if x > 0 else False for x in delay_df.previous_ended_rental_id]"
   ]
  },
  {
   "cell_type": "code",
   "execution_count": 77,
   "metadata": {},
   "outputs": [
    {
     "data": {
      "image/png": "[encoded data removed]",
      "text/plain": [
       "<Figure size 1000x600 with 1 Axes>"
      ]
     },
     "metadata": {},
     "output_type": "display_data"
    }
   ],
   "source": [
    "warnings.filterwarnings(\"ignore\")\n",
    "plt.figure(figsize=(10,6))\n",
    "mask_delay = delay_df[delay_df['checkout']!='Early'] # all earlier rentals \n",
    "sns.boxenplot(data=mask_delay, x='delay_at_checkout_in_minutes', scale='linear')\n",
    "plt.show()"
   ]
  },
  {
   "attachments": {},
   "cell_type": "markdown",
   "metadata": {},
   "source": [
    "We observe a few outliers"
   ]
  },
  {
   "cell_type": "code",
   "execution_count": 78,
   "metadata": {},
   "outputs": [],
   "source": [
    "delays = []\n",
    "for x in delay_df['delay_at_checkout_in_minutes']:\n",
    "    if x < delay_df['delay_at_checkout_in_minutes'].quantile(0.01):\n",
    "        delays.append(np.nan)\n",
    "    elif x > delay_df['delay_at_checkout_in_minutes'].quantile(0.99):\n",
    "        delays.append(np.nan)     \n",
    "    else:\n",
    "        delays.append(x)\n",
    "\n",
    "delay_df['delays_checkout_min_cleaned'] = delays"
   ]
  },
  {
   "cell_type": "code",
   "execution_count": 50,
   "metadata": {},
   "outputs": [
    {
     "data": {
      "text/html": [
       "<div>\n",
       "<style scoped>\n",
       "    .dataframe tbody tr th:only-of-type {\n",
       "        vertical-align: middle;\n",
       "    }\n",
       "\n",
       "    .dataframe tbody tr th {\n",
       "        vertical-align: top;\n",
       "    }\n",
       "\n",
       "    .dataframe thead th {\n",
       "        text-align: right;\n",
       "    }\n",
       "</style>\n",
       "<table border=\"1\" class=\"dataframe\">\n",
       "  <thead>\n",
       "    <tr style=\"text-align: right;\">\n",
       "      <th></th>\n",
       "      <th>rental_id</th>\n",
       "      <th>car_id</th>\n",
       "      <th>checkin_type</th>\n",
       "      <th>state</th>\n",
       "      <th>delay_at_checkout_in_minutes</th>\n",
       "      <th>previous_ended_rental_id</th>\n",
       "      <th>time_delta_with_previous_rental_in_minutes</th>\n",
       "      <th>checkout</th>\n",
       "      <th>next_rental</th>\n",
       "      <th>delays_checkout_min_cleaned</th>\n",
       "    </tr>\n",
       "  </thead>\n",
       "  <tbody>\n",
       "    <tr>\n",
       "      <th>count</th>\n",
       "      <td>21310.000000</td>\n",
       "      <td>21310.000000</td>\n",
       "      <td>21310</td>\n",
       "      <td>21310</td>\n",
       "      <td>16346.000000</td>\n",
       "      <td>1841.000000</td>\n",
       "      <td>1841.000000</td>\n",
       "      <td>21310</td>\n",
       "      <td>21310</td>\n",
       "      <td>16019.000000</td>\n",
       "    </tr>\n",
       "    <tr>\n",
       "      <th>unique</th>\n",
       "      <td>NaN</td>\n",
       "      <td>NaN</td>\n",
       "      <td>2</td>\n",
       "      <td>2</td>\n",
       "      <td>NaN</td>\n",
       "      <td>NaN</td>\n",
       "      <td>NaN</td>\n",
       "      <td>7</td>\n",
       "      <td>2</td>\n",
       "      <td>NaN</td>\n",
       "    </tr>\n",
       "    <tr>\n",
       "      <th>top</th>\n",
       "      <td>NaN</td>\n",
       "      <td>NaN</td>\n",
       "      <td>mobile</td>\n",
       "      <td>ended</td>\n",
       "      <td>NaN</td>\n",
       "      <td>NaN</td>\n",
       "      <td>NaN</td>\n",
       "      <td>Early</td>\n",
       "      <td>False</td>\n",
       "      <td>NaN</td>\n",
       "    </tr>\n",
       "    <tr>\n",
       "      <th>freq</th>\n",
       "      <td>NaN</td>\n",
       "      <td>NaN</td>\n",
       "      <td>17003</td>\n",
       "      <td>18045</td>\n",
       "      <td>NaN</td>\n",
       "      <td>NaN</td>\n",
       "      <td>NaN</td>\n",
       "      <td>6820</td>\n",
       "      <td>19469</td>\n",
       "      <td>NaN</td>\n",
       "    </tr>\n",
       "    <tr>\n",
       "      <th>mean</th>\n",
       "      <td>549712.880338</td>\n",
       "      <td>350030.603426</td>\n",
       "      <td>NaN</td>\n",
       "      <td>NaN</td>\n",
       "      <td>59.701517</td>\n",
       "      <td>550127.411733</td>\n",
       "      <td>279.288430</td>\n",
       "      <td>NaN</td>\n",
       "      <td>NaN</td>\n",
       "      <td>31.599600</td>\n",
       "    </tr>\n",
       "    <tr>\n",
       "      <th>std</th>\n",
       "      <td>13863.446964</td>\n",
       "      <td>58206.249765</td>\n",
       "      <td>NaN</td>\n",
       "      <td>NaN</td>\n",
       "      <td>1002.561635</td>\n",
       "      <td>13184.023111</td>\n",
       "      <td>254.594486</td>\n",
       "      <td>NaN</td>\n",
       "      <td>NaN</td>\n",
       "      <td>215.203776</td>\n",
       "    </tr>\n",
       "    <tr>\n",
       "      <th>min</th>\n",
       "      <td>504806.000000</td>\n",
       "      <td>159250.000000</td>\n",
       "      <td>NaN</td>\n",
       "      <td>NaN</td>\n",
       "      <td>-22433.000000</td>\n",
       "      <td>505628.000000</td>\n",
       "      <td>0.000000</td>\n",
       "      <td>NaN</td>\n",
       "      <td>NaN</td>\n",
       "      <td>-853.000000</td>\n",
       "    </tr>\n",
       "    <tr>\n",
       "      <th>25%</th>\n",
       "      <td>540613.250000</td>\n",
       "      <td>317639.000000</td>\n",
       "      <td>NaN</td>\n",
       "      <td>NaN</td>\n",
       "      <td>-36.000000</td>\n",
       "      <td>540896.000000</td>\n",
       "      <td>60.000000</td>\n",
       "      <td>NaN</td>\n",
       "      <td>NaN</td>\n",
       "      <td>-35.000000</td>\n",
       "    </tr>\n",
       "    <tr>\n",
       "      <th>50%</th>\n",
       "      <td>550350.000000</td>\n",
       "      <td>368717.000000</td>\n",
       "      <td>NaN</td>\n",
       "      <td>NaN</td>\n",
       "      <td>9.000000</td>\n",
       "      <td>550567.000000</td>\n",
       "      <td>180.000000</td>\n",
       "      <td>NaN</td>\n",
       "      <td>NaN</td>\n",
       "      <td>9.000000</td>\n",
       "    </tr>\n",
       "    <tr>\n",
       "      <th>75%</th>\n",
       "      <td>560468.500000</td>\n",
       "      <td>394928.000000</td>\n",
       "      <td>NaN</td>\n",
       "      <td>NaN</td>\n",
       "      <td>67.000000</td>\n",
       "      <td>560823.000000</td>\n",
       "      <td>540.000000</td>\n",
       "      <td>NaN</td>\n",
       "      <td>NaN</td>\n",
       "      <td>65.000000</td>\n",
       "    </tr>\n",
       "    <tr>\n",
       "      <th>max</th>\n",
       "      <td>576401.000000</td>\n",
       "      <td>417675.000000</td>\n",
       "      <td>NaN</td>\n",
       "      <td>NaN</td>\n",
       "      <td>71084.000000</td>\n",
       "      <td>575053.000000</td>\n",
       "      <td>720.000000</td>\n",
       "      <td>NaN</td>\n",
       "      <td>NaN</td>\n",
       "      <td>1490.000000</td>\n",
       "    </tr>\n",
       "  </tbody>\n",
       "</table>\n",
       "</div>"
      ],
      "text/plain": [
       "            rental_id         car_id checkin_type  state  \\\n",
       "count    21310.000000   21310.000000        21310  21310   \n",
       "unique            NaN            NaN            2      2   \n",
       "top               NaN            NaN       mobile  ended   \n",
       "freq              NaN            NaN        17003  18045   \n",
       "mean    549712.880338  350030.603426          NaN    NaN   \n",
       "std      13863.446964   58206.249765          NaN    NaN   \n",
       "min     504806.000000  159250.000000          NaN    NaN   \n",
       "25%     540613.250000  317639.000000          NaN    NaN   \n",
       "50%     550350.000000  368717.000000          NaN    NaN   \n",
       "75%     560468.500000  394928.000000          NaN    NaN   \n",
       "max     576401.000000  417675.000000          NaN    NaN   \n",
       "\n",
       "        delay_at_checkout_in_minutes  previous_ended_rental_id  \\\n",
       "count                   16346.000000               1841.000000   \n",
       "unique                           NaN                       NaN   \n",
       "top                              NaN                       NaN   \n",
       "freq                             NaN                       NaN   \n",
       "mean                       59.701517             550127.411733   \n",
       "std                      1002.561635              13184.023111   \n",
       "min                    -22433.000000             505628.000000   \n",
       "25%                       -36.000000             540896.000000   \n",
       "50%                         9.000000             550567.000000   \n",
       "75%                        67.000000             560823.000000   \n",
       "max                     71084.000000             575053.000000   \n",
       "\n",
       "        time_delta_with_previous_rental_in_minutes checkout next_rental  \\\n",
       "count                                  1841.000000    21310       21310   \n",
       "unique                                         NaN        7           2   \n",
       "top                                            NaN    Early       False   \n",
       "freq                                           NaN     6820       19469   \n",
       "mean                                    279.288430      NaN         NaN   \n",
       "std                                     254.594486      NaN         NaN   \n",
       "min                                       0.000000      NaN         NaN   \n",
       "25%                                      60.000000      NaN         NaN   \n",
       "50%                                     180.000000      NaN         NaN   \n",
       "75%                                     540.000000      NaN         NaN   \n",
       "max                                     720.000000      NaN         NaN   \n",
       "\n",
       "        delays_checkout_min_cleaned  \n",
       "count                  16019.000000  \n",
       "unique                          NaN  \n",
       "top                             NaN  \n",
       "freq                            NaN  \n",
       "mean                      31.599600  \n",
       "std                      215.203776  \n",
       "min                     -853.000000  \n",
       "25%                      -35.000000  \n",
       "50%                        9.000000  \n",
       "75%                       65.000000  \n",
       "max                     1490.000000  "
      ]
     },
     "execution_count": 50,
     "metadata": {},
     "output_type": "execute_result"
    }
   ],
   "source": [
    "delay_df.describe(include='all')"
   ]
  },
  {
   "cell_type": "code",
   "execution_count": 79,
   "metadata": {},
   "outputs": [],
   "source": [
    "# Save the two dataFrame\n",
    "delay_df = pd.read_csv('api/delay_df.csv')\n",
    "pricing_df_clean = pd.read_csv('api/pricing_df.csv')"
   ]
  },
  {
   "cell_type": "code",
   "execution_count": 80,
   "metadata": {},
   "outputs": [
    {
     "data": {
      "text/html": [
       "<div>\n",
       "<style scoped>\n",
       "    .dataframe tbody tr th:only-of-type {\n",
       "        vertical-align: middle;\n",
       "    }\n",
       "\n",
       "    .dataframe tbody tr th {\n",
       "        vertical-align: top;\n",
       "    }\n",
       "\n",
       "    .dataframe thead th {\n",
       "        text-align: right;\n",
       "    }\n",
       "</style>\n",
       "<table border=\"1\" class=\"dataframe\">\n",
       "  <thead>\n",
       "    <tr style=\"text-align: right;\">\n",
       "      <th></th>\n",
       "      <th>rental_id</th>\n",
       "      <th>car_id</th>\n",
       "      <th>checkin_type</th>\n",
       "      <th>state</th>\n",
       "      <th>delay_at_checkout_in_minutes</th>\n",
       "      <th>previous_ended_rental_id</th>\n",
       "      <th>time_delta_with_previous_rental_in_minutes</th>\n",
       "      <th>checkout</th>\n",
       "      <th>next_rental</th>\n",
       "      <th>delays_checkout_min_cleaned</th>\n",
       "    </tr>\n",
       "  </thead>\n",
       "  <tbody>\n",
       "    <tr>\n",
       "      <th>0</th>\n",
       "      <td>505000</td>\n",
       "      <td>363965</td>\n",
       "      <td>mobile</td>\n",
       "      <td>canceled</td>\n",
       "      <td>NaN</td>\n",
       "      <td>NaN</td>\n",
       "      <td>NaN</td>\n",
       "      <td>NaN</td>\n",
       "      <td>False</td>\n",
       "      <td>NaN</td>\n",
       "    </tr>\n",
       "    <tr>\n",
       "      <th>1</th>\n",
       "      <td>507750</td>\n",
       "      <td>269550</td>\n",
       "      <td>mobile</td>\n",
       "      <td>ended</td>\n",
       "      <td>-81.0</td>\n",
       "      <td>NaN</td>\n",
       "      <td>NaN</td>\n",
       "      <td>Early</td>\n",
       "      <td>False</td>\n",
       "      <td>-81.0</td>\n",
       "    </tr>\n",
       "    <tr>\n",
       "      <th>2</th>\n",
       "      <td>508131</td>\n",
       "      <td>359049</td>\n",
       "      <td>connect</td>\n",
       "      <td>ended</td>\n",
       "      <td>70.0</td>\n",
       "      <td>NaN</td>\n",
       "      <td>NaN</td>\n",
       "      <td>Late 60-120</td>\n",
       "      <td>False</td>\n",
       "      <td>70.0</td>\n",
       "    </tr>\n",
       "    <tr>\n",
       "      <th>3</th>\n",
       "      <td>508865</td>\n",
       "      <td>299063</td>\n",
       "      <td>connect</td>\n",
       "      <td>canceled</td>\n",
       "      <td>NaN</td>\n",
       "      <td>NaN</td>\n",
       "      <td>NaN</td>\n",
       "      <td>NaN</td>\n",
       "      <td>False</td>\n",
       "      <td>NaN</td>\n",
       "    </tr>\n",
       "    <tr>\n",
       "      <th>4</th>\n",
       "      <td>511440</td>\n",
       "      <td>313932</td>\n",
       "      <td>mobile</td>\n",
       "      <td>ended</td>\n",
       "      <td>NaN</td>\n",
       "      <td>NaN</td>\n",
       "      <td>NaN</td>\n",
       "      <td>NaN</td>\n",
       "      <td>False</td>\n",
       "      <td>NaN</td>\n",
       "    </tr>\n",
       "  </tbody>\n",
       "</table>\n",
       "</div>"
      ],
      "text/plain": [
       "   rental_id  car_id checkin_type     state  delay_at_checkout_in_minutes  \\\n",
       "0     505000  363965       mobile  canceled                           NaN   \n",
       "1     507750  269550       mobile     ended                         -81.0   \n",
       "2     508131  359049      connect     ended                          70.0   \n",
       "3     508865  299063      connect  canceled                           NaN   \n",
       "4     511440  313932       mobile     ended                           NaN   \n",
       "\n",
       "   previous_ended_rental_id  time_delta_with_previous_rental_in_minutes  \\\n",
       "0                       NaN                                         NaN   \n",
       "1                       NaN                                         NaN   \n",
       "2                       NaN                                         NaN   \n",
       "3                       NaN                                         NaN   \n",
       "4                       NaN                                         NaN   \n",
       "\n",
       "      checkout  next_rental  delays_checkout_min_cleaned  \n",
       "0          NaN        False                          NaN  \n",
       "1        Early        False                        -81.0  \n",
       "2  Late 60-120        False                         70.0  \n",
       "3          NaN        False                          NaN  \n",
       "4          NaN        False                          NaN  "
      ]
     },
     "execution_count": 80,
     "metadata": {},
     "output_type": "execute_result"
    }
   ],
   "source": [
    "delay_df.head()"
   ]
  },
  {
   "cell_type": "code",
   "execution_count": 87,
   "metadata": {},
   "outputs": [
    {
     "data": {
      "image/png": "[encoded data removed]",
      "text/plain": [
       "<Figure size 812.375x700 with 6 Axes>"
      ]
     },
     "metadata": {},
     "output_type": "display_data"
    }
   ],
   "source": [
    "pairplot_df = delay_df[['state','delays_checkout_min_cleaned','time_delta_with_previous_rental_in_minutes']]\n",
    "sns.pairplot(data=pairplot_df,hue='state',palette='deep',height=3.5, )\n",
    "plt.show()"
   ]
  },
  {
   "cell_type": "code",
   "execution_count": 88,
   "metadata": {},
   "outputs": [
    {
     "data": {
      "image/png": "[encoded data removed]",
      "text/plain": [
       "<Figure size 1000x600 with 1 Axes>"
      ]
     },
     "metadata": {},
     "output_type": "display_data"
    }
   ],
   "source": [
    "checkout_clean = delay_df.dropna(subset=['delay_at_checkout_in_minutes'])\n",
    "checktype_checkout = checkout_clean.groupby(['checkin_type','checkout']).size().reset_index(name='count')\n",
    "checktype_checkout['percentage'] = [i / checktype_checkout['count'].sum() * 100 for i in checktype_checkout['count']]\n",
    "\n",
    "plt.figure(figsize=(10,6))\n",
    "sns.barplot(y=checktype_checkout['percentage'],x=checktype_checkout['checkin_type'], hue=checktype_checkout['checkout'],orient='vertical')\n",
    "plt.show()"
   ]
  },
  {
   "cell_type": "code",
   "execution_count": 89,
   "metadata": {},
   "outputs": [
    {
     "data": {
      "text/plain": [
       "checkout\n",
       "Early          41.722746\n",
       "Very late      15.710266\n",
       "Late 0-15      12.253762\n",
       "Late 60-120    11.378931\n",
       "Late 30-60     10.534687\n",
       "Late 15-30      8.399608\n",
       "Name: count, dtype: float64"
      ]
     },
     "execution_count": 89,
     "metadata": {},
     "output_type": "execute_result"
    }
   ],
   "source": [
    "delay_df.checkout.value_counts()/delay_df.checkout.count()*100"
   ]
  },
  {
   "attachments": {},
   "cell_type": "markdown",
   "metadata": {},
   "source": [
    "Most late checkouts are still within the next 2 hours, so we can reasonably hope to significantly reduce risk by setting a threshold.<br>\n",
    "\n",
    "Mobile check in type is more frequent, but otherwise the distribution is fairly close despite a little more NA's. "
   ]
  },
  {
   "cell_type": "code",
   "execution_count": 90,
   "metadata": {},
   "outputs": [
    {
     "data": {
      "image/png": "[encoded data removed]",
      "text/plain": [
       "<Figure size 1000x600 with 1 Axes>"
      ]
     },
     "metadata": {},
     "output_type": "display_data"
    }
   ],
   "source": [
    "has_next = delay_df.groupby(['checkin_type','next_rental']).size().reset_index(name='count')\n",
    "has_next['percentage'] = [i / has_next['count'].sum() * 100 for i in has_next['count']]\n",
    "\n",
    "plt.figure(figsize=(10,6))\n",
    "sns.barplot(y=has_next['percentage'],x=has_next['checkin_type'], hue=has_next['next_rental'],orient='vertical')\n",
    "plt.show()"
   ]
  },
  {
   "cell_type": "code",
   "execution_count": 91,
   "metadata": {},
   "outputs": [
    {
     "name": "stdout",
     "output_type": "stream",
     "text": [
      "Mobile use is prevalent with a 79.79% share and Connect has a 20.21% share. However, 24% of cancellations are with Connect, suggesting a bigger impact from cancellations on this type of rental flow.\n"
     ]
    }
   ],
   "source": [
    "connect_share = (delay_df['checkin_type'].value_counts()/delay_df['checkin_type'].count()*100)[1]\n",
    "mobile_share = (delay_df['checkin_type'].value_counts()/delay_df['checkin_type'].count()*100)[0]\n",
    "connect_canceled = (delay_df[delay_df['state']=='canceled']['checkin_type'].value_counts()/delay_df[delay_df['state']=='canceled']['checkin_type'].count()*100)[1]\n",
    "\n",
    "print(f\"Mobile use is prevalent with a {round(mobile_share,2)}% share and Connect has a {round(connect_share,2)}% share. However, {round(connect_canceled)}% of cancellations are with Connect, \\\n",
    "suggesting a bigger impact from cancellations on this type of rental flow.\")"
   ]
  },
  {
   "cell_type": "code",
   "execution_count": 99,
   "metadata": {},
   "outputs": [
    {
     "data": {
      "image/png": "[encoded data removed]",
      "text/plain": [
       "<Figure size 1000x600 with 1 Axes>"
      ]
     },
     "metadata": {},
     "output_type": "display_data"
    }
   ],
   "source": [
    "plt.figure(figsize=(10,6))\n",
    "sns.histplot(data=delay_df,x='delays_checkout_min_cleaned',bins=150, color='skyblue', palette='viridis')\n",
    "plt.show()"
   ]
  },
  {
   "attachments": {},
   "cell_type": "markdown",
   "metadata": {},
   "source": [
    "After eliminating the most extreme outliers, a substantial number of outliers still persist. It would be valuable to acquire data on rental durations, as the current information only indicates that rentals span from 'a few hours to a few days."
   ]
  },
  {
   "cell_type": "code",
   "execution_count": 120,
   "metadata": {},
   "outputs": [
    {
     "name": "stdout",
     "output_type": "stream",
     "text": [
      "On average, 43.36 % of drivers are late\n"
     ]
    }
   ],
   "source": [
    "late_df = delay_df[delay_df['delays_checkout_min_cleaned']>0]\n",
    "\n",
    "drivers_late = len(late_df)\n",
    "drivers_total = len(delay_df)\n",
    "percentage_drivers_late = drivers_late/drivers_total*100\n",
    "percentage_drivers_late\n",
    "print(f\"On average, {round(percentage_drivers_late,2)} % of drivers are late\")"
   ]
  },
  {
   "cell_type": "code",
   "execution_count": 101,
   "metadata": {},
   "outputs": [
    {
     "name": "stdout",
     "output_type": "stream",
     "text": [
      "On average, late drivers are 124.32 minutes late\n"
     ]
    }
   ],
   "source": [
    "time_late = late_df['delays_checkout_min_cleaned'].sum()/len(late_df)\n",
    "print(f\"On average, late drivers are {round(time_late,2)} minutes late\")"
   ]
  },
  {
   "attachments": {},
   "cell_type": "markdown",
   "metadata": {},
   "source": [
    "#### Establishing a cutoff point."
   ]
  },
  {
   "attachments": {},
   "cell_type": "markdown",
   "metadata": {},
   "source": [
    "If we implement a boundary between the checkout and the subsequent check-in, how many drivers would be impacted?"
   ]
  },
  {
   "cell_type": "code",
   "execution_count": 121,
   "metadata": {},
   "outputs": [],
   "source": [
    "impacted_df = delay_df.dropna(subset=['time_delta_with_previous_rental_in_minutes'])\n",
    "impacted_df['difference'] = impacted_df['time_delta_with_previous_rental_in_minutes'] - impacted_df['delays_checkout_min_cleaned']\n",
    "issues = len(impacted_df[impacted_df['difference'] < 0])\n",
    "issues_percentage = issues/len(delay_df)*100"
   ]
  },
  {
   "cell_type": "code",
   "execution_count": 122,
   "metadata": {},
   "outputs": [
    {
     "name": "stdout",
     "output_type": "stream",
     "text": [
      "257 of drivers (1.21%) have an issue with the time delta between rentals\n",
      "178 drivers causing an issue are more than 30 minutes late\n",
      "Implementing a 30 minutes delay would impact 279 drivers\n"
     ]
    }
   ],
   "source": [
    "print(f\"{issues} of drivers ({round(issues_percentage,2)}%) have an issue with the time delta between rentals\")\n",
    "\n",
    "print(f\"{len(impacted_df[impacted_df['difference'] < -30])} drivers causing an issue are more than 30 minutes late\")\n",
    "\n",
    "print(f\"Implementing a 30 minutes delay would impact {len(impacted_df[impacted_df['time_delta_with_previous_rental_in_minutes'] < 30])} drivers\")"
   ]
  },
  {
   "cell_type": "code",
   "execution_count": 124,
   "metadata": {},
   "outputs": [
    {
     "data": {
      "text/plain": [
       "720"
      ]
     },
     "execution_count": 124,
     "metadata": {},
     "output_type": "execute_result"
    }
   ],
   "source": [
    "60*12"
   ]
  },
  {
   "cell_type": "code",
   "execution_count": 129,
   "metadata": {},
   "outputs": [],
   "source": [
    "threshold_range = np.arange(0, 60*12, step=15) # 15min intervals for 12 hours\n",
    "impacted_list_mobile = []\n",
    "impacted_list_connect = []\n",
    "impacted_list_total = []\n",
    "solved_list_mobile = []\n",
    "solved_list_connect = []\n",
    "solved_list_total = []\n",
    "\n",
    "solved_list = []\n",
    "for t in threshold_range:\n",
    "    impacted = impacted_df.dropna(subset=['time_delta_with_previous_rental_in_minutes'])\n",
    "    connect_impact = impacted[impacted['checkin_type'] == 'connect']\n",
    "    mobile_impact = impacted[impacted['checkin_type'] == 'mobile']\n",
    "    connect_impact = connect_impact[connect_impact['time_delta_with_previous_rental_in_minutes'] < t]\n",
    "    mobile_impact = mobile_impact[mobile_impact['time_delta_with_previous_rental_in_minutes'] < t]\n",
    "    impacted = impacted[impacted['time_delta_with_previous_rental_in_minutes'] < t]\n",
    "    impacted_list_connect.append(len(connect_impact))\n",
    "    impacted_list_mobile.append(len(mobile_impact))\n",
    "    impacted_list_total.append(len(impacted))\n",
    "\n",
    "    solved = impacted_df[impacted_df['difference'] < 0]\n",
    "    connect_solved = solved[solved['checkin_type'] == 'connect']\n",
    "    mobile_solved = solved[solved['checkin_type'] == 'mobile']\n",
    "    connect_solved = connect_solved[connect_solved['delay_at_checkout_in_minutes'] < t]\n",
    "    mobile_solved = mobile_solved[mobile_solved['delay_at_checkout_in_minutes'] < t]\n",
    "    solved = solved[solved['delay_at_checkout_in_minutes'] < t]\n",
    "    solved_list_connect.append(len(connect_solved))\n",
    "    solved_list_mobile.append(len(mobile_solved))\n",
    "    solved_list_total.append(len(solved))"
   ]
  },
  {
   "cell_type": "code",
   "execution_count": 131,
   "metadata": {},
   "outputs": [
    {
     "data": {
      "image/png": "[encoded data removed]",
      "text/plain": [
       "<Figure size 2000x700 with 2 Axes>"
      ]
     },
     "metadata": {},
     "output_type": "display_data"
    }
   ],
   "source": [
    "\n",
    "fig, ax = plt.subplots(1, 2, sharex=True, figsize=(20,7))\n",
    "ax[0].plot(threshold_range, solved_list_connect)\n",
    "ax[0].plot(threshold_range, solved_list_mobile)\n",
    "ax[0].plot(threshold_range, solved_list_total)\n",
    "ax[1].plot(threshold_range, impacted_list_connect)\n",
    "ax[1].plot(threshold_range, impacted_list_mobile)\n",
    "ax[1].plot(threshold_range, impacted_list_total)\n",
    "ax[0].set_xlabel('Threshold (min)')\n",
    "ax[0].set_ylabel('Number of impacted cases & cases solved')\n",
    "ax[0].legend(['Connect solved','Mobile solved','Total solved' ])\n",
    "ax[1].legend(['Connect impacted','Mobile impacted','Total impacted' ])\n",
    "plt.show()"
   ]
  },
  {
   "attachments": {},
   "cell_type": "markdown",
   "metadata": {},
   "source": [
    "*  We observe a similar pattern for both Connect and Mobile cases , although the plateau is reached a bit sooner for Connect \n",
    "   rentals.\n",
    " * Unfortunately, implementing the threshold could adversely affect a significant number of other rentals, preventing them from \n",
    "   occurring  as intended. This trade-off needs careful consideration against the potential positive impact on user experience.\n",
    "\n",
    "* The analysis indicates that the rate of cases resolved begins to slow considerably after 120 minutes and even more so around 180 \n",
    "  minutes (which forms a plateau, particularly for Connect cases).\n",
    "\n",
    "* Based on this, our recommendation is to implement the threshold at 120 minutes, with an upper limit of 180 minutes in any case.\n",
    "\n",
    "* While the overall effect appears to be most favorable when applied to both Connect and Mobile rentals, a prudent approach would be \n",
    "  to initially test it on Connect, given its smaller sample size. Additionally, the unique nature of Connect check-ins, characterized \n",
    "  by less human interaction, makes it an ideal starting point."
   ]
  },
  {
   "attachments": {},
   "cell_type": "markdown",
   "metadata": {},
   "source": [
    "#### Deeper Examination: An alternative perspective"
   ]
  },
  {
   "attachments": {},
   "cell_type": "markdown",
   "metadata": {},
   "source": [
    "Considering the business aspect, let's approach this from a financial perspective. Ideally, we aim to enhance user experience, but since our data lacks user feedback, I'll focus on a critical aspect that is likely crucial for most stakeholders: financial impact.\n",
    "\n",
    "* I want to emphasize that this analysis is a projection under the assumption of a sustained high demand for rentals.\n",
    "\n",
    "* In this hypothetical scenario, let's examine:\n",
    "\n",
    "     - The financial loss attributed to delays\n",
    "     - Quantify the balance between risks and benefits\n",
    "     - Reassess the optimal threshold that enhances this balance."
   ]
  },
  {
   "attachments": {},
   "cell_type": "markdown",
   "metadata": {},
   "source": [
    "Since we have no information on how long a typical rental is and we have fairly high delays, I'll go with 1 day."
   ]
  },
  {
   "cell_type": "code",
   "execution_count": 134,
   "metadata": {},
   "outputs": [
    {
     "name": "stdout",
     "output_type": "stream",
     "text": [
      "At the median rate and assuming an average of 24 hour rental, the 3265 cancellations totaled a 388535.0 $ max loss\n"
     ]
    }
   ],
   "source": [
    "# selecting canceled rental\n",
    "canceled = (delay_df['state'] == 'canceled').sum()\n",
    "median_rental = pricing_df_clean['rental_price_per_day'].median() #median rental price is 119 dollars\n",
    "canceled_loss = canceled*median_rental \n",
    "\n",
    "print(f\"At the median rate and assuming an average of 24 hour rental, the {canceled} cancellations totaled a {canceled_loss} $ max loss\")"
   ]
  },
  {
   "attachments": {},
   "cell_type": "markdown",
   "metadata": {},
   "source": [
    "What is this \"max loss\" ? Not an absolute. It's more like money not made, really.\n",
    "\n",
    "It relies on a few assumptions :\n",
    "- First, that the user renting his car seeks to absolutely optimize revenue.\n",
    "- Second, that all cancellations are due to delays.\n",
    "- Third, that no money is made from the additional time fater the planned checkout time.\n",
    "- Fourth, that users renting a car don't wait ; in case of a delay, they cancel outright."
   ]
  },
  {
   "cell_type": "code",
   "execution_count": 135,
   "metadata": {},
   "outputs": [
    {
     "name": "stdout",
     "output_type": "stream",
     "text": [
      "Supposing a rate by the minute with no penalty for a late checkout, the 9240 late arrivals brought in 94925.39 $ (not counting outliers)\n"
     ]
    }
   ],
   "source": [
    "number_delays = (delay_df['delays_checkout_min_cleaned'] > 0).sum()\n",
    "sum_delays = delay_df[delay_df['delays_checkout_min_cleaned'] > 0]['delays_checkout_min_cleaned'].sum() # sum of delays superior to 0, in minutes\n",
    "minute_rate = median_rental/1440 #1440 minutes in a day\n",
    "late_revenue = sum_delays*minute_rate\n",
    "\n",
    "print(f\"Supposing a rate by the minute with no penalty for a late checkout, the {number_delays} late arrivals brought in {round(late_revenue,2)} $ (not counting outliers)\")"
   ]
  },
  {
   "attachments": {},
   "cell_type": "markdown",
   "metadata": {},
   "source": [
    "If late checkouts have to pay for the additional time at a rate by the minute, some of the \"max loss\" is mitigated."
   ]
  },
  {
   "cell_type": "code",
   "execution_count": 136,
   "metadata": {},
   "outputs": [
    {
     "name": "stdout",
     "output_type": "stream",
     "text": [
      "If canceled rentals were for less than 5.86 hours, additional revenue from late checkouts and loss from canceled rentals break even.\n",
      "Or generates a 293609.61 $ loss for a full day, still assuming all cancelled rentals were because of a late checkout.\n"
     ]
    }
   ],
   "source": [
    "late_loss = canceled_loss - late_revenue\n",
    "print(f\"If canceled rentals were for less than {round(late_revenue/canceled_loss*24,2)} hours, additional revenue from late checkouts and loss from canceled rentals break even.\")\n",
    "print(f\"Or generates a {round(late_loss,2)} $ loss for a full day, still assuming all cancelled rentals were because of a late checkout.\")"
   ]
  },
  {
   "attachments": {},
   "cell_type": "markdown",
   "metadata": {},
   "source": [
    "The \"max loss\" supposes a 24 hour average rental. If cancelled rentals were actually for smaller durations, there is much less impact."
   ]
  },
  {
   "cell_type": "code",
   "execution_count": 137,
   "metadata": {},
   "outputs": [],
   "source": [
    "threshold_range = np.arange(0, 60*24, step=15) # 15min intervals in a day\n",
    "total_late_revenue = []\n",
    "for i in threshold_range:\n",
    "    late_revenue_growing = delay_df[delay_df['delays_checkout_min_cleaned'] > i]['delays_checkout_min_cleaned'].sum()*minute_rate\n",
    "    total_late_revenue.append(late_revenue_growing)\n",
    "total_late_revenue.reverse()"
   ]
  },
  {
   "cell_type": "code",
   "execution_count": 138,
   "metadata": {},
   "outputs": [
    {
     "data": {
      "image/png": "[encoded data removed]",
      "text/plain": [
       "<Figure size 1500x600 with 2 Axes>"
      ]
     },
     "metadata": {},
     "output_type": "display_data"
    }
   ],
   "source": [
    "fig, ax = plt.subplots(1, 2, sharex=True, figsize=(15,6))\n",
    "ax[0].plot(threshold_range/60, total_late_revenue)\n",
    "ax[0].hlines(y=canceled_loss/24*5.86, xmin=0, xmax=24, linewidth=2, color='r')\n",
    "ax[0].set_title('Assuming average canceled rentals were for 5.86 hours')\n",
    "ax[0].set_xlabel('Threshold (hours)')\n",
    "ax[1].set_xlabel('Threshold (hours)')\n",
    "ax[0].set_ylabel('Revenue $')\n",
    "ax[1].plot(threshold_range/60, total_late_revenue)\n",
    "ax[1].hlines(y=canceled_loss, xmin=0, xmax=24, linewidth=2, color='r')\n",
    "ax[1].set_title('Assuming average canceled rentals were for 24 hours')\n",
    "plt.show()"
   ]
  },
  {
   "attachments": {},
   "cell_type": "markdown",
   "metadata": {},
   "source": [
    "At this point we would really need more time data (duration of each ride, how much time a car spends unused, are there other cars available...) to accurately estimate losses."
   ]
  },
  {
   "attachments": {},
   "cell_type": "markdown",
   "metadata": {},
   "source": [
    "We can calculate the \"maximum risk\" of late arrivals.\n",
    "This is even more theoretical since it assumes:\n",
    "- Every minute late results in a cancellation\n",
    "- All rentals have a next one planned \n",
    "- All cancelled rentals would have been a 24 hour rental"
   ]
  },
  {
   "cell_type": "code",
   "execution_count": 139,
   "metadata": {},
   "outputs": [
    {
     "name": "stdout",
     "output_type": "stream",
     "text": [
      "Late arrivals triggered a maximum risk of 1099560.0 $, so about 0.49 times the total estimated revenue from rentals of 2242280.39 $\n"
     ]
    }
   ],
   "source": [
    "at_risk = number_delays*minute_rate*1440\n",
    "ended = (delay_df['state'] == 'ended').sum()\n",
    "revenue = ended*median_rental + late_revenue\n",
    "risk_over_revenue = round(at_risk/(revenue),2)\n",
    "\n",
    "print(f\"Late arrivals triggered a maximum risk of {at_risk} $, so about {risk_over_revenue} times the total estimated revenue from rentals of {round(revenue,2)} $\")"
   ]
  },
  {
   "attachments": {},
   "cell_type": "markdown",
   "metadata": {},
   "source": [
    "We can observe that neglecting this aspect could lead to severe repercussions in this scenario. While it's a hypothetical scenario, it sheds light on the considerable room for optimization!\n",
    "\n",
    "However, it's crucial to note that we don't have definitive evidence that all cancellations are directly tied to late checkouts. Moreover, it's uncertain whether these cancellations are offset by reallocating cars to other rentals. Gathering more data on this issue, such as soliciting user feedback on cancellation reasons, would be valuable. This approach could help us pinpoint the cost of late arrivals and potentially uncover other user concerns with the rental service.\n",
    "\n",
    "As we move forward to establish an acceptable threshold, it's also worth considering implementing penalties for late arrivals and exploring the option of increasing rental rates after the scheduled hour."
   ]
  },
  {
   "cell_type": "code",
   "execution_count": 140,
   "metadata": {},
   "outputs": [],
   "source": [
    "threshold_range = np.arange(60*24, step=15) \n",
    "penalty = 3  # penalty for late arrival is set at 3 times the normal minute rate\n",
    "risk_over_revenue_penalty= []\n",
    "\n",
    "for t in threshold_range:\n",
    "    count = (delay_df['delays_checkout_min_cleaned'] > t).sum()\n",
    "    late_revenue_penalty = delay_df[delay_df['delays_checkout_min_cleaned'] > t]['delays_checkout_min_cleaned'].sum() * minute_rate * penalty\n",
    "    late_risk = count * median_rental\n",
    "    risk_over_revenue_penalty.append(late_risk/late_revenue_penalty)"
   ]
  },
  {
   "cell_type": "code",
   "execution_count": 219,
   "metadata": {},
   "outputs": [
    {
     "data": {
      "image/png": "[encoded data removed]",
      "text/plain": [
       "<Figure size 864x504 with 1 Axes>"
      ]
     },
     "metadata": {
      "needs_background": "light"
     },
     "output_type": "display_data"
    }
   ],
   "source": [
    "plt.figure(figsize=(12,7))\n",
    "sns.lineplot(x=threshold_range,y=risk_over_revenue_penalty)\n",
    "plt.title('Threshold time (min) and risk over late revenue')\n",
    "plt.show()"
   ]
  },
  {
   "attachments": {},
   "cell_type": "markdown",
   "metadata": {},
   "source": [
    "For standard rentals of 1 day and a penalty of 3 times the normal minute rate after the rental is due, with our current data we would need to set a threshold of 180 minutes to mitigate losses from late checkouts.\n",
    "\n",
    "\n",
    "**Additional remarks** :\n",
    "A significant caveat is that all this, on top of some assumptions (duration of rental, maximum loss...), does not take into account actual demand in rentals. This has limited production applications and this should not be relied upon as neither a comprehensive projection of revenue nor a reliable way to alleviate user discomfort see assumptions for \"max loss\" and \"max risk\" above.\n",
    "\n",
    "A reduced profit margin is not a perfectly accurate way to account for user discomfort and a new metric should be made, perhaps using the results of a poll to estimate the impact of delays on the user experience.\n",
    "\n",
    "It should also be noted that in order to fully measure the potential negative or positive impact of implementing this new delay, we would need start and end times of all rentals."
   ]
  },
  {
   "cell_type": "markdown",
   "metadata": {},
   "source": []
  }
 ],
 "metadata": {
  "kernelspec": {
   "display_name": "Python 3.9.13 64-bit (microsoft store)",
   "language": "python",
   "name": "python3"
  },
  "language_info": {
   "codemirror_mode": {
    "name": "ipython",
    "version": 3
   },
   "file_extension": ".py",
   "mimetype": "text/x-python",
   "name": "python",
   "nbconvert_exporter": "python",
   "pygments_lexer": "ipython3",
   "version": "3.11.5"
  },
  "orig_nbformat": 4,
  "vscode": {
   "interpreter": {
    "hash": "ca585fe95be477a0c29b6da1540b202df0c520c5083081cb336e969485254a81"
   }
  }
 },
 "nbformat": 4,
 "nbformat_minor": 2
}
